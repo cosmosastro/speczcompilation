{
 "cells": [
  {
   "cell_type": "code",
   "execution_count": 1,
   "metadata": {},
   "outputs": [],
   "source": [
    "# Import Libraries that are needed\n",
    "import requests\n",
    "import xml.etree.ElementTree as ET \n",
    "from IPython.display import display, Image\n",
    "from astropy.io import fits\n",
    "from astropy.coordinates import SkyCoord\n",
    "from astropy.table import Table\n",
    "import astropy.units as u\n",
    "import matplotlib.pyplot as plt"
   ]
  },
  {
   "cell_type": "markdown",
   "metadata": {},
   "source": [
    "# Basic Tutorial: (Query the Compilation and Ancillary Data Sets)\n",
    "\n",
    "This tutorial is designed to demonstrate how one could query a source of interest, find all matches, and extract ancillary data from the SED fits.\n",
    "\n",
    "Say there is an interesting source at the following coordinate\n",
    "\n",
    "*RA = 150.42458 deg*\n",
    "*DEC = 1.89911 deg*\n",
    "\n",
    "We may be interested in this target for follow-up spectroscopy and want to know what do we already have covered for this single source. Perhaps, we want to follow-up this source with Keck/MOSFIRE or JWST/NIRSpec but want to see if there is any optical coverage that could enhance our science case.\n",
    "\n",
    "## How to View the Source using IRSA\n",
    "\n",
    "First, let's take a close look at what our object looks like. We can easily achieve this using via IRSA"
   ]
  },
  {
   "cell_type": "code",
   "execution_count": 2,
   "metadata": {},
   "outputs": [
    {
     "name": "stdout",
     "output_type": "stream",
     "text": [
      "Fetching image from:  https://irsa.ipac.caltech.edu:443/workspace/TMP_XgXXV7_7112/Cutouts/150.42458_1.89911.v0001/results/acs_mosaic_2.0/0001_150.42458000_1.89911000_acs_I_mosaic_30mas_sci.jpg\n",
      " \n"
     ]
    },
    {
     "data": {
      "text/html": [
       "<img src=\" https://irsa.ipac.caltech.edu:443/workspace/TMP_XgXXV7_7112/Cutouts/150.42458_1.89911.v0001/results/acs_mosaic_2.0/0001_150.42458000_1.89911000_acs_I_mosaic_30mas_sci.jpg\n",
       " \"/>"
      ],
      "text/plain": [
       "<IPython.core.display.Image object>"
      ]
     },
     "metadata": {},
     "output_type": "display_data"
    }
   ],
   "source": [
    "# Define our source of interest\n",
    "RA = 150.42458\n",
    "DEC = 1.89911\n",
    "\n",
    "# IRSA link for a 5 arcsec cutout only for HST/ACS F814W imaging\n",
    "# This will give an XML output\n",
    "link_to_source = f\"https://irsa.ipac.caltech.edu/cgi-bin/Cutouts/nph-cutouts?mission=COSMOS&max_size=180&locstr={RA}+{DEC}&sizeX=5&ntable_cutouts=18&cutouttbl1=acs_mosaic_2.0&mode=PI\"\n",
    "\n",
    "\n",
    "# Let's not get the request from IRSA's COSMOS Cutout Feature\n",
    "xml_data = requests.get(link_to_source).content\n",
    "\n",
    "# Now We are going to parse through the XML data to get the cutout\n",
    "# This is located in image > cutouts > jpg\n",
    "root = ET.fromstring(xml_data)\n",
    "for images in root.findall('.//images'):\n",
    "    cutouts = images.find('cutouts')  # Find 'cutouts' under 'images'\n",
    "    if cutouts is not None:\n",
    "        jpg = cutouts.find('jpg')  # Find 'jpg' under 'cutouts'\n",
    "        if jpg is not None:\n",
    "            jpg_url = jpg.text  # Extract the URL from the 'jpg' tag\n",
    "            print(\"Fetching image from:\", jpg_url)\n",
    "\n",
    "            # Now Let's Display tthe Image\n",
    "            img = Image(url = jpg_url)\n",
    "            display(img)\n",
    "        else:\n",
    "            ValueError(\"No JPG Image Found\")\n"
   ]
  },
  {
   "cell_type": "markdown",
   "metadata": {},
   "source": [
    "## Query the Compilation\n",
    "\n",
    "Now I want to query through the compilation to find all sources matching my source of interest"
   ]
  },
  {
   "cell_type": "code",
   "execution_count": 3,
   "metadata": {},
   "outputs": [
    {
     "name": "stdout",
     "output_type": "stream",
     "text": [
      "4 Matches Found\n"
     ]
    }
   ],
   "source": [
    "# Define SkyCoord for My Source of Interest\n",
    "my_source = SkyCoord(ra=RA, dec=DEC, unit=(u.deg, u.deg))\n",
    "\n",
    "# Load in the Compilation\n",
    "compilation_ALL = fits.open(\"../specz_compilation/specz_compilation_COSMOS_DR1.00_all.fits\")[1].data\n",
    "\n",
    "# Define Coordinates within Astropy SkyCoord\n",
    "# Note that we are using the astrometry-corrected coordinates NOT the original\n",
    "# Reason is that each program had their own astrometric calibration and we corrected for this using the COSMOS2020/Classic astrometry (calibrated on GAIA DR1)\n",
    "coords_comp_ALL = SkyCoord(ra=compilation_ALL['ra_corrected'], dec=compilation_ALL['dec_corrected'], unit=(u.deg, u.deg))\n",
    "\n",
    "# Now Let's Query the compilation\n",
    "d2d = my_source.separation(coords_comp_ALL)\n",
    "comp_ALL_mask = d2d < 1.*u.arcsec\n",
    "\n",
    "# Double Check if there are matches:\n",
    "if True not in comp_ALL_mask:\n",
    "    print(\"No Matches Found\")\n",
    "else:\n",
    "    print(f\"{comp_ALL_mask.sum()} Matches Found\")\n"
   ]
  },
  {
   "cell_type": "markdown",
   "metadata": {},
   "source": [
    "We now know in this case there are 4 matches found for this given source. This means that there are 4 individual redshift measurements for this one source. \n",
    "\n",
    "Let's now figure out which surveys observed this object as well as the redshifts and quality flags assigned"
   ]
  },
  {
   "cell_type": "code",
   "execution_count": 4,
   "metadata": {},
   "outputs": [
    {
     "name": "stdout",
     "output_type": "stream",
     "text": [
      "SurveyID = 29 Specz = 0.96884 Flag = 2 GroupID = 83185\n",
      "SurveyID = 106 Specz = 0.969 Flag = 1 GroupID = 83185\n",
      "SurveyID = 86 Specz = 0.97159 Flag = 2 GroupID = 83185\n",
      "SurveyID = 56 Specz = 0.9683 Flag = 4 GroupID = 83185\n"
     ]
    }
   ],
   "source": [
    "matched = compilation_ALL[comp_ALL_mask]\n",
    "for ii in range(comp_ALL_mask.sum()):\n",
    "    print(f\"SurveyID = {matched['survey'][ii]} Specz = {matched['specz'][ii]} Flag = {matched['flag'][ii]} GroupID = {matched['groupid'][ii]}\")"
   ]
  },
  {
   "cell_type": "markdown",
   "metadata": {},
   "source": [
    "The GroupID referenced above is the ID associated with redshift measurements corresponding to the same object (e.g., duplicate measurements). Refering to the `README` for the compilation as well as Table 1 of the Compilation paper, we find that this one source was observed by the following programs\n",
    "\n",
    "| Survey ID  | Survey Name    | Instrument     | Observing Classification |  Reference |\n",
    "| ---------  | -----------    | ------------   | ------------------------ | ---------- |\n",
    "| 29         | DESI-EDR       | Mayall/DESI    | Optical                  | [Adame et al. (2024)](https://ui.adsabs.harvard.edu/abs/2024AJ....168...58D/abstract) |\n",
    "| 56         | LEGA-C DR3     | VLT/VIMOS      | Optical                  | [van der Wel et al. (2021)](https://ui.adsabs.harvard.edu/abs/2021ApJS..256...44V/abstract) |\n",
    "| 86         | PRIMUS         | Magellan/IMACS | Optical                  | [Coil et al. (2011)](https://ui.adsabs.harvard.edu/abs/2011ApJ...741....8C/abstract) |\n",
    "| 106        | zCOSMOS Bright | VLT/VIMOS      | Optical                  | [Lilly et al. (2007)](https://ui.adsabs.harvard.edu/abs/2007ApJS..172...70L/abstract), [2009](https://ui.adsabs.harvard.edu/abs/2009ApJS..184..218L/abstract) |\n",
    "\n",
    "We have determined then that all spectral coverage of this source was done within the optical with 3 different instruments and telescopes. Furthermore, we have determined that only LEGA-C DR3 had the most robust detection with Flag = 4 and a z<sub>spec</sub> = 0.9683 while PRIMUS and DESI-EDR report a moderate detection and zCOSMOS Bright finding a tentative detection."
   ]
  },
  {
   "cell_type": "markdown",
   "metadata": {},
   "source": [
    "## Query the Ancillary Data Sets\n",
    "Now say we want to know what are the derived physical properties of this one object. We will need to first figure out the COSMOS2020/Classic ID and then match this with the CIGALE and LePHARE results FITS files. \n",
    "\n",
    "Two ways we can go about it. We can use the `_unique.fits` compilation file instead which for our source would be represented by the zCOSMOS Bright detection. The other way is using the `Id_COS20_Classic` that will be the same for all the sources as they are part of the same GroupID"
   ]
  },
  {
   "cell_type": "code",
   "execution_count": 5,
   "metadata": {},
   "outputs": [
    {
     "name": "stdout",
     "output_type": "stream",
     "text": [
      "COSMOS2020/Classic ID = 505782\n",
      "COSMOS2020/Classic ID = 505782\n",
      "COSMOS2020/Classic ID = 505782\n",
      "COSMOS2020/Classic ID = 505782\n"
     ]
    },
    {
     "data": {
      "text/html": [
       "<div><i>Table length=1</i>\n",
       "<table id=\"table140574692283968\" class=\"table-striped table-bordered table-condensed\">\n",
       "<thead><tr><th>ID_COS20_Classic</th><th>specz</th><th>bayes.attenuation.E_BV_lines</th><th>bayes.attenuation.E_BV_lines_err</th><th>bayes.nebular.f_esc</th><th>bayes.nebular.f_esc_err</th><th>bayes.param.D_4000</th><th>bayes.param.D_4000_err</th><th>bayes.param.EW(121.5/1.0)</th><th>bayes.param.EW(121.5/1.0)_err</th><th>bayes.param.EW(372.7/1.0)</th><th>bayes.param.EW(372.7/1.0)_err</th><th>bayes.param.EW(486.1/1.0)</th><th>bayes.param.EW(486.1/1.0)_err</th><th>bayes.param.EW(495.9/1.0)</th><th>bayes.param.EW(495.9/1.0)_err</th><th>bayes.param.EW(500.7/1.0)</th><th>bayes.param.EW(500.7/1.0)_err</th><th>bayes.param.EW(656.3/1.0)</th><th>bayes.param.EW(656.3/1.0)_err</th><th>bayes.param.EW(658.4/1.0)</th><th>bayes.param.EW(658.4/1.0)_err</th><th>bayes.param.beta0_calz94</th><th>bayes.param.beta0_calz94_err</th><th>bayes.param.beta_calz94</th><th>bayes.param.beta_calz94_err</th><th>bayes.param.restframe_NUV-SUBARU_r</th><th>bayes.param.restframe_NUV-SUBARU_r_err</th><th>bayes.param.restframe_SUBARU_U-SUBARU_V</th><th>bayes.param.restframe_SUBARU_U-SUBARU_V_err</th><th>bayes.param.restframe_SUBARU_V-vista.vircam.J</th><th>bayes.param.restframe_SUBARU_V-vista.vircam.J_err</th><th>bayes.param.restframe_SUBARU_r-vista.vircam.J</th><th>bayes.param.restframe_SUBARU_r-vista.vircam.J_err</th><th>bayes.sfh.age_burst</th><th>bayes.sfh.age_burst_err</th><th>bayes.sfh.age_main</th><th>bayes.sfh.age_main_err</th><th>bayes.sfh.f_burst</th><th>bayes.sfh.f_burst_err</th><th>bayes.sfh.tau_burst</th><th>bayes.sfh.tau_burst_err</th><th>bayes.sfh.tau_main</th><th>bayes.sfh.tau_main_err</th><th>bayes.stellar.metallicity</th><th>bayes.stellar.metallicity_err</th><th>bayes.param.restframe_Lnu(TopHat_1500_100)</th><th>bayes.param.restframe_Lnu(TopHat_1500_100)_err</th><th>bayes.sfh.sfr</th><th>bayes.sfh.sfr_err</th><th>bayes.sfh.sfr100Myrs</th><th>bayes.sfh.sfr100Myrs_err</th><th>bayes.sfh.sfr10Myrs</th><th>bayes.sfh.sfr10Myrs_err</th><th>bayes.stellar.m_gas</th><th>bayes.stellar.m_gas_err</th><th>bayes.stellar.m_star</th><th>bayes.stellar.m_star_err</th><th>bayes.stellar.n_ly</th><th>bayes.stellar.n_ly_err</th><th>bayes.CFHT_u</th><th>bayes.CFHT_u_err</th><th>bayes.SUBARU_B</th><th>bayes.SUBARU_B_err</th><th>bayes.SUBARU_z</th><th>bayes.SUBARU_z_err</th><th>bayes.cfht.megacam.u_9302</th><th>bayes.cfht.megacam.u_9302_err</th><th>bayes.g_prime</th><th>bayes.g_prime_err</th><th>bayes.galex.FUV</th><th>bayes.galex.FUV_err</th><th>bayes.galex.NUV</th><th>bayes.galex.NUV_err</th><th>bayes.hst.wfc.F814W</th><th>bayes.hst.wfc.F814W_err</th><th>bayes.line.ArIII-713.6</th><th>bayes.line.ArIII-713.6_err</th><th>bayes.line.CII-232.4</th><th>bayes.line.CII-232.4_err</th><th>bayes.line.CII-232.47</th><th>bayes.line.CII-232.47_err</th><th>bayes.line.CII-232.54</th><th>bayes.line.CII-232.54_err</th><th>bayes.line.CII-232.7</th><th>bayes.line.CII-232.7_err</th><th>bayes.line.CII-232.8</th><th>bayes.line.CII-232.8_err</th><th>bayes.line.CIII-190.7</th><th>bayes.line.CIII-190.7_err</th><th>bayes.line.CIII-190.9</th><th>bayes.line.CIII-190.9_err</th><th>bayes.line.H-alpha</th><th>bayes.line.H-alpha_err</th><th>bayes.line.H-beta</th><th>bayes.line.H-beta_err</th><th>bayes.line.H-delta</th><th>bayes.line.H-delta_err</th><th>bayes.line.H-gamma</th><th>bayes.line.H-gamma_err</th><th>bayes.line.HeII-164.0</th><th>bayes.line.HeII-164.0_err</th><th>bayes.line.Ly-alpha</th><th>bayes.line.Ly-alpha_err</th><th>bayes.line.NII-654.8</th><th>bayes.line.NII-654.8_err</th><th>bayes.line.NII-658.3</th><th>bayes.line.NII-658.3_err</th><th>bayes.line.NeIII-396.7</th><th>bayes.line.NeIII-396.7_err</th><th>bayes.line.OI-630.0</th><th>bayes.line.OI-630.0_err</th><th>bayes.line.OII-372.6</th><th>bayes.line.OII-372.6_err</th><th>bayes.line.OII-372.9</th><th>bayes.line.OII-372.9_err</th><th>bayes.line.OIII-495.9</th><th>bayes.line.OIII-495.9_err</th><th>bayes.line.OIII-500.7</th><th>bayes.line.OIII-500.7_err</th><th>bayes.line.Pa-alpha</th><th>bayes.line.Pa-alpha_err</th><th>bayes.line.Pa-beta</th><th>bayes.line.Pa-beta_err</th><th>bayes.line.Pa-gamma</th><th>bayes.line.Pa-gamma_err</th><th>bayes.line.SII-671.6</th><th>bayes.line.SII-671.6_err</th><th>bayes.line.SII-673.1</th><th>bayes.line.SII-673.1_err</th><th>bayes.line.SIII-906.9</th><th>bayes.line.SIII-906.9_err</th><th>bayes.line.SIII-953.1</th><th>bayes.line.SIII-953.1_err</th><th>bayes.spitzer.irac.ch1</th><th>bayes.spitzer.irac.ch1_err</th><th>bayes.spitzer.irac.ch2</th><th>bayes.spitzer.irac.ch2_err</th><th>bayes.spitzer.irac.ch3</th><th>bayes.spitzer.irac.ch3_err</th><th>bayes.spitzer.irac.ch4</th><th>bayes.spitzer.irac.ch4_err</th><th>bayes.subaru.hsc.g</th><th>bayes.subaru.hsc.g_err</th><th>bayes.subaru.hsc.i</th><th>bayes.subaru.hsc.i_err</th><th>bayes.subaru.hsc.r</th><th>bayes.subaru.hsc.r_err</th><th>bayes.subaru.hsc.y</th><th>bayes.subaru.hsc.y_err</th><th>bayes.subaru.hsc.z</th><th>bayes.subaru.hsc.z_err</th><th>bayes.subaru.suprime.IB427</th><th>bayes.subaru.suprime.IB427_err</th><th>bayes.subaru.suprime.IB464</th><th>bayes.subaru.suprime.IB464_err</th><th>bayes.subaru.suprime.IB484</th><th>bayes.subaru.suprime.IB484_err</th><th>bayes.subaru.suprime.IB505</th><th>bayes.subaru.suprime.IB505_err</th><th>bayes.subaru.suprime.IB527</th><th>bayes.subaru.suprime.IB527_err</th><th>bayes.subaru.suprime.IB574</th><th>bayes.subaru.suprime.IB574_err</th><th>bayes.subaru.suprime.IB624</th><th>bayes.subaru.suprime.IB624_err</th><th>bayes.subaru.suprime.IB679</th><th>bayes.subaru.suprime.IB679_err</th><th>bayes.subaru.suprime.IB709</th><th>bayes.subaru.suprime.IB709_err</th><th>bayes.subaru.suprime.IB738</th><th>bayes.subaru.suprime.IB738_err</th><th>bayes.subaru.suprime.IB767</th><th>bayes.subaru.suprime.IB767_err</th><th>bayes.subaru.suprime.IB827</th><th>bayes.subaru.suprime.IB827_err</th><th>bayes.subaru.suprime.NB711</th><th>bayes.subaru.suprime.NB711_err</th><th>bayes.subaru.suprime.NB816</th><th>bayes.subaru.suprime.NB816_err</th><th>bayes.subaru.suprime.V</th><th>bayes.subaru.suprime.V_err</th><th>bayes.subaru.suprime.i</th><th>bayes.subaru.suprime.i_err</th><th>bayes.subaru.suprime.r</th><th>bayes.subaru.suprime.r_err</th><th>bayes.subaru.suprime.zpp</th><th>bayes.subaru.suprime.zpp_err</th><th>bayes.vista.vircam.H</th><th>bayes.vista.vircam.H_err</th><th>bayes.vista.vircam.J</th><th>bayes.vista.vircam.J_err</th><th>bayes.vista.vircam.Ks</th><th>bayes.vista.vircam.Ks_err</th><th>bayes.vista.vircam.Y</th><th>bayes.vista.vircam.Y_err</th><th>best.chi_square</th><th>best.reduced_chi_square</th><th>best.attenuation.B_B90</th><th>best.attenuation.E_BV_factor</th><th>best.attenuation.E_BV_lines</th><th>best.attenuation.E_BVs</th><th>best.attenuation.FUV</th><th>best.attenuation.V_B90</th><th>best.attenuation.powerlaw_slope</th><th>best.attenuation.uv_bump_amplitude</th><th>best.attenuation.uv_bump_wavelength</th><th>best.attenuation.uv_bump_width</th><th>best.dust.alpha</th><th>best.dust.gamma</th><th>best.dust.qpah</th><th>best.dust.umean</th><th>best.dust.umin</th><th>best.nebular.f_dust</th><th>best.nebular.f_esc</th><th>best.nebular.lines_width</th><th>best.nebular.logU</th><th>best.nebular.ne</th><th>best.nebular.zgas</th><th>best.param.D_4000</th><th>best.param.EW(121.5/1.0)</th><th>best.param.EW(372.7/1.0)</th><th>best.param.EW(486.1/1.0)</th><th>best.param.EW(495.9/1.0)</th><th>best.param.EW(500.7/1.0)</th><th>best.param.EW(656.3/1.0)</th><th>best.param.EW(658.4/1.0)</th><th>best.param.beta0_calz94</th><th>best.param.beta_calz94</th><th>best.param.restframe_NUV-SUBARU_r</th><th>best.param.restframe_SUBARU_U-SUBARU_V</th><th>best.param.restframe_SUBARU_V-vista.vircam.J</th><th>best.param.restframe_SUBARU_r-vista.vircam.J</th><th>best.sfh.age</th><th>best.sfh.age_burst</th><th>best.sfh.age_main</th><th>best.sfh.f_burst</th><th>best.sfh.tau_burst</th><th>best.sfh.tau_main</th><th>best.stellar.age_m_star</th><th>best.stellar.imf</th><th>best.stellar.metallicity</th><th>best.stellar.old_young_separation_age</th><th>best.universe.age</th><th>best.universe.luminosity_distance</th><th>best.universe.redshift</th><th>best.dust.luminosity</th><th>best.dust.mass</th><th>best.param.restframe_Lnu(CFHT_u)</th><th>best.param.restframe_Lnu(FUV)</th><th>best.param.restframe_Lnu(NUV)</th><th>best.param.restframe_Lnu(SUBARU_B)</th><th>best.param.restframe_Lnu(SUBARU_V)</th><th>best.param.restframe_Lnu(SUBARU_g)</th><th>best.param.restframe_Lnu(SUBARU_i)</th><th>best.param.restframe_Lnu(SUBARU_r)</th><th>best.param.restframe_Lnu(SUBARU_z)</th><th>best.param.restframe_Lnu(TopHat_1500_100)</th><th>best.param.restframe_Lnu(vista.vircam.H)</th><th>best.param.restframe_Lnu(vista.vircam.J)</th><th>best.param.restframe_Lnu(vista.vircam.Ks)</th><th>best.param.restframe_Lnu(vista.vircam.Y)</th><th>best.sfh.integrated</th><th>best.sfh.sfr</th><th>best.sfh.sfr100Myrs</th><th>best.sfh.sfr10Myrs</th><th>best.stellar.lum</th><th>best.stellar.lum_ly</th><th>best.stellar.lum_ly_old</th><th>best.stellar.lum_ly_young</th><th>best.stellar.lum_old</th><th>best.stellar.lum_young</th><th>best.stellar.m_gas</th><th>best.stellar.m_gas_old</th><th>best.stellar.m_gas_young</th><th>best.stellar.m_star</th><th>best.stellar.m_star_old</th><th>best.stellar.m_star_young</th><th>best.stellar.n_ly</th><th>best.stellar.n_ly_old</th><th>best.stellar.n_ly_young</th><th>best.cfht.megacam.u_9302</th><th>best.CFHT_u</th><th>best.subaru.hsc.g</th><th>best.subaru.hsc.r</th><th>best.subaru.hsc.i</th><th>best.subaru.hsc.z</th><th>best.subaru.hsc.y</th><th>best.vista.vircam.Y</th><th>best.vista.vircam.J</th><th>best.vista.vircam.H</th><th>best.vista.vircam.Ks</th><th>best.subaru.suprime.IB427</th><th>best.subaru.suprime.IB464</th><th>best.subaru.suprime.IB484</th><th>best.subaru.suprime.IB505</th><th>best.subaru.suprime.IB527</th><th>best.subaru.suprime.IB574</th><th>best.subaru.suprime.IB624</th><th>best.subaru.suprime.IB679</th><th>best.subaru.suprime.IB709</th><th>best.subaru.suprime.IB738</th><th>best.subaru.suprime.IB767</th><th>best.subaru.suprime.IB827</th><th>best.subaru.suprime.NB711</th><th>best.subaru.suprime.NB816</th><th>best.SUBARU_B</th><th>best.g_prime</th><th>best.subaru.suprime.V</th><th>best.subaru.suprime.r</th><th>best.subaru.suprime.i</th><th>best.SUBARU_z</th><th>best.subaru.suprime.zpp</th><th>best.spitzer.irac.ch1</th><th>best.spitzer.irac.ch2</th><th>best.hst.wfc.F814W</th><th>best.galex.NUV</th><th>best.galex.FUV</th><th>best.spitzer.irac.ch3</th><th>best.spitzer.irac.ch4</th><th>best.line.ArIII-713.6</th><th>best.line.CII-232.4</th><th>best.line.CII-232.47</th><th>best.line.CII-232.54</th><th>best.line.CII-232.7</th><th>best.line.CII-232.8</th><th>best.line.CIII-190.7</th><th>best.line.CIII-190.9</th><th>best.line.H-alpha</th><th>best.line.H-beta</th><th>best.line.H-delta</th><th>best.line.H-gamma</th><th>best.line.HeII-164.0</th><th>best.line.Ly-alpha</th><th>best.line.NII-654.8</th><th>best.line.NII-658.3</th><th>best.line.NeIII-396.7</th><th>best.line.OI-630.0</th><th>best.line.OII-372.6</th><th>best.line.OII-372.9</th><th>best.line.OIII-495.9</th><th>best.line.OIII-500.7</th><th>best.line.Pa-alpha</th><th>best.line.Pa-beta</th><th>best.line.Pa-gamma</th><th>best.line.SII-671.6</th><th>best.line.SII-673.1</th><th>best.line.SIII-906.9</th><th>best.line.SIII-953.1</th><th>cfht.megacam.u_9302</th><th>cfht.megacam.u_9302_err</th><th>CFHT_u</th><th>CFHT_u_err</th><th>subaru.hsc.g</th><th>subaru.hsc.g_err</th><th>subaru.hsc.r</th><th>subaru.hsc.r_err</th><th>subaru.hsc.i</th><th>subaru.hsc.i_err</th><th>subaru.hsc.z</th><th>subaru.hsc.z_err</th><th>subaru.hsc.y</th><th>subaru.hsc.y_err</th><th>vista.vircam.Y</th><th>vista.vircam.Y_err</th><th>vista.vircam.J</th><th>vista.vircam.J_err</th><th>vista.vircam.H</th><th>vista.vircam.H_err</th><th>vista.vircam.Ks</th><th>vista.vircam.Ks_err</th><th>subaru.suprime.IB427</th><th>subaru.suprime.IB427_err</th><th>subaru.suprime.IB464</th><th>subaru.suprime.IB464_err</th><th>subaru.suprime.IB484</th><th>subaru.suprime.IB484_err</th><th>subaru.suprime.IB505</th><th>subaru.suprime.IB505_err</th><th>subaru.suprime.IB527</th><th>subaru.suprime.IB527_err</th><th>subaru.suprime.IB574</th><th>subaru.suprime.IB574_err</th><th>subaru.suprime.IB624</th><th>subaru.suprime.IB624_err</th><th>subaru.suprime.IB679</th><th>subaru.suprime.IB679_err</th><th>subaru.suprime.IB709</th><th>subaru.suprime.IB709_err</th><th>subaru.suprime.IB738</th><th>subaru.suprime.IB738_err</th><th>subaru.suprime.IB767</th><th>subaru.suprime.IB767_err</th><th>subaru.suprime.IB827</th><th>subaru.suprime.IB827_err</th><th>subaru.suprime.NB711</th><th>subaru.suprime.NB711_err</th><th>subaru.suprime.NB816</th><th>subaru.suprime.NB816_err</th><th>SUBARU_B</th><th>SUBARU_B_err</th><th>g_prime</th><th>g_prime_err</th><th>subaru.suprime.V</th><th>subaru.suprime.V_err</th><th>subaru.suprime.r</th><th>subaru.suprime.r_err</th><th>subaru.suprime.i</th><th>subaru.suprime.i_err</th><th>SUBARU_z</th><th>SUBARU_z_err</th><th>subaru.suprime.zpp</th><th>subaru.suprime.zpp_err</th><th>spitzer.irac.ch1</th><th>spitzer.irac.ch1_err</th><th>spitzer.irac.ch2</th><th>spitzer.irac.ch2_err</th><th>hst.wfc.F814W</th><th>hst.wfc.F814W_err</th></tr></thead>\n",
       "<thead><tr><th></th><th></th><th>mag</th><th>mag</th><th></th><th></th><th></th><th></th><th>nm</th><th>nm</th><th>nm</th><th>nm</th><th>nm</th><th>nm</th><th>nm</th><th>nm</th><th>nm</th><th>nm</th><th>nm</th><th>nm</th><th>nm</th><th>nm</th><th></th><th></th><th></th><th></th><th>mag</th><th>mag</th><th>mag</th><th>mag</th><th>mag</th><th>mag</th><th>mag</th><th>mag</th><th>Myr</th><th>Myr</th><th>Myr</th><th>Myr</th><th></th><th></th><th>Myr</th><th>Myr</th><th>Myr</th><th>Myr</th><th></th><th></th><th>W / Hz</th><th>W / Hz</th><th>solMass / yr</th><th>solMass / yr</th><th>solMass / yr</th><th>solMass / yr</th><th>solMass / yr</th><th>solMass / yr</th><th>solMass</th><th>solMass</th><th>solMass</th><th>solMass</th><th>ph / s</th><th>ph / s</th><th>mJy</th><th>mJy</th><th>mJy</th><th>mJy</th><th>mJy</th><th>mJy</th><th>mJy</th><th>mJy</th><th>mJy</th><th>mJy</th><th>mJy</th><th>mJy</th><th>mJy</th><th>mJy</th><th>mJy</th><th>mJy</th><th>W / m2</th><th>W / m2</th><th>W / m2</th><th>W / m2</th><th>W / m2</th><th>W / m2</th><th>W / m2</th><th>W / m2</th><th>W / m2</th><th>W / m2</th><th>W / m2</th><th>W / m2</th><th>W / m2</th><th>W / m2</th><th>W / m2</th><th>W / m2</th><th>W / m2</th><th>W / m2</th><th>W / m2</th><th>W / m2</th><th>W / m2</th><th>W / m2</th><th>W / m2</th><th>W / m2</th><th>W / m2</th><th>W / m2</th><th>W / m2</th><th>W / m2</th><th>W / m2</th><th>W / m2</th><th>W / m2</th><th>W / m2</th><th>W / m2</th><th>W / m2</th><th>W / m2</th><th>W / m2</th><th>W / m2</th><th>W / m2</th><th>W / m2</th><th>W / m2</th><th>W / m2</th><th>W / m2</th><th>W / m2</th><th>W / m2</th><th>W / m2</th><th>W / m2</th><th>W / m2</th><th>W / m2</th><th>W / m2</th><th>W / m2</th><th>W / m2</th><th>W / m2</th><th>W / m2</th><th>W / m2</th><th>W / m2</th><th>W / m2</th><th>W / m2</th><th>W / m2</th><th>mJy</th><th>mJy</th><th>mJy</th><th>mJy</th><th>mJy</th><th>mJy</th><th>mJy</th><th>mJy</th><th>mJy</th><th>mJy</th><th>mJy</th><th>mJy</th><th>mJy</th><th>mJy</th><th>mJy</th><th>mJy</th><th>mJy</th><th>mJy</th><th>mJy</th><th>mJy</th><th>mJy</th><th>mJy</th><th>mJy</th><th>mJy</th><th>mJy</th><th>mJy</th><th>mJy</th><th>mJy</th><th>mJy</th><th>mJy</th><th>mJy</th><th>mJy</th><th>mJy</th><th>mJy</th><th>mJy</th><th>mJy</th><th>mJy</th><th>mJy</th><th>mJy</th><th>mJy</th><th>mJy</th><th>mJy</th><th>mJy</th><th>mJy</th><th>mJy</th><th>mJy</th><th>mJy</th><th>mJy</th><th>mJy</th><th>mJy</th><th>mJy</th><th>mJy</th><th>mJy</th><th>mJy</th><th>mJy</th><th>mJy</th><th>mJy</th><th>mJy</th><th>mJy</th><th>mJy</th><th>mJy</th><th>mJy</th><th></th><th></th><th>mag</th><th></th><th>mag</th><th>mag</th><th>mag</th><th>mag</th><th></th><th></th><th>nm</th><th>nm</th><th></th><th></th><th></th><th></th><th></th><th></th><th></th><th>km / s</th><th></th><th>1 / cm3</th><th></th><th></th><th>nm</th><th>nm</th><th>nm</th><th>nm</th><th>nm</th><th>nm</th><th>nm</th><th></th><th></th><th>mag</th><th>mag</th><th>mag</th><th>mag</th><th>Myr</th><th>Myr</th><th>Myr</th><th></th><th>Myr</th><th>Myr</th><th>Myr</th><th></th><th></th><th>Myr</th><th>Myr</th><th>m</th><th></th><th>W</th><th>kg</th><th>W / Hz</th><th>W / Hz</th><th>W / Hz</th><th>W / Hz</th><th>W / Hz</th><th>W / Hz</th><th>W / Hz</th><th>W / Hz</th><th>W / Hz</th><th>W / Hz</th><th>W / Hz</th><th>W / Hz</th><th>W / Hz</th><th>W / Hz</th><th>solMass</th><th>solMass / yr</th><th>solMass / yr</th><th>solMass / yr</th><th>W</th><th>W</th><th>W</th><th>W</th><th>W</th><th>W</th><th>solMass</th><th>solMass</th><th>solMass</th><th>solMass</th><th>solMass</th><th>solMass</th><th>ph / s</th><th>ph / s</th><th>ph / s</th><th>mJy</th><th>mJy</th><th>mJy</th><th>mJy</th><th>mJy</th><th>mJy</th><th>mJy</th><th>mJy</th><th>mJy</th><th>mJy</th><th>mJy</th><th>mJy</th><th>mJy</th><th>mJy</th><th>mJy</th><th>mJy</th><th>mJy</th><th>mJy</th><th>mJy</th><th>mJy</th><th>mJy</th><th>mJy</th><th>mJy</th><th>mJy</th><th>mJy</th><th>mJy</th><th>mJy</th><th>mJy</th><th>mJy</th><th>mJy</th><th>mJy</th><th>mJy</th><th>mJy</th><th>mJy</th><th>mJy</th><th>mJy</th><th>mJy</th><th>mJy</th><th>mJy</th><th>W / m2</th><th>W / m2</th><th>W / m2</th><th>W / m2</th><th>W / m2</th><th>W / m2</th><th>W / m2</th><th>W / m2</th><th>W / m2</th><th>W / m2</th><th>W / m2</th><th>W / m2</th><th>W / m2</th><th>W / m2</th><th>W / m2</th><th>W / m2</th><th>W / m2</th><th>W / m2</th><th>W / m2</th><th>W / m2</th><th>W / m2</th><th>W / m2</th><th>W / m2</th><th>W / m2</th><th>W / m2</th><th>W / m2</th><th>W / m2</th><th>W / m2</th><th>W / m2</th><th></th><th></th><th></th><th></th><th></th><th></th><th></th><th></th><th></th><th></th><th></th><th></th><th></th><th></th><th></th><th></th><th></th><th></th><th></th><th></th><th></th><th></th><th></th><th></th><th></th><th></th><th></th><th></th><th></th><th></th><th></th><th></th><th></th><th></th><th></th><th></th><th></th><th></th><th></th><th></th><th></th><th></th><th></th><th></th><th></th><th></th><th></th><th></th><th></th><th></th><th></th><th></th><th></th><th></th><th></th><th></th><th></th><th></th><th></th><th></th><th></th><th></th><th></th><th></th><th></th><th></th><th></th><th></th><th></th><th></th></tr></thead>\n",
       "<thead><tr><th>float64</th><th>float64</th><th>float64</th><th>float64</th><th>float64</th><th>float64</th><th>float64</th><th>float64</th><th>float64</th><th>float64</th><th>float64</th><th>float64</th><th>float64</th><th>float64</th><th>float64</th><th>float64</th><th>float64</th><th>float64</th><th>float64</th><th>float64</th><th>float64</th><th>float64</th><th>float64</th><th>float64</th><th>float64</th><th>float64</th><th>float64</th><th>float64</th><th>float64</th><th>float64</th><th>float64</th><th>float64</th><th>float64</th><th>float64</th><th>float64</th><th>float64</th><th>float64</th><th>float64</th><th>float64</th><th>float64</th><th>float64</th><th>float64</th><th>float64</th><th>float64</th><th>float64</th><th>float64</th><th>float64</th><th>float64</th><th>float64</th><th>float64</th><th>float64</th><th>float64</th><th>float64</th><th>float64</th><th>float64</th><th>float64</th><th>float64</th><th>float64</th><th>float64</th><th>float64</th><th>float64</th><th>float64</th><th>float64</th><th>float64</th><th>float64</th><th>float64</th><th>float64</th><th>float64</th><th>float64</th><th>float64</th><th>float64</th><th>float64</th><th>float64</th><th>float64</th><th>float64</th><th>float64</th><th>float64</th><th>float64</th><th>float64</th><th>float64</th><th>float64</th><th>float64</th><th>float64</th><th>float64</th><th>float64</th><th>float64</th><th>float64</th><th>float64</th><th>float64</th><th>float64</th><th>float64</th><th>float64</th><th>float64</th><th>float64</th><th>float64</th><th>float64</th><th>float64</th><th>float64</th><th>float64</th><th>float64</th><th>float64</th><th>float64</th><th>float64</th><th>float64</th><th>float64</th><th>float64</th><th>float64</th><th>float64</th><th>float64</th><th>float64</th><th>float64</th><th>float64</th><th>float64</th><th>float64</th><th>float64</th><th>float64</th><th>float64</th><th>float64</th><th>float64</th><th>float64</th><th>float64</th><th>float64</th><th>float64</th><th>float64</th><th>float64</th><th>float64</th><th>float64</th><th>float64</th><th>float64</th><th>float64</th><th>float64</th><th>float64</th><th>float64</th><th>float64</th><th>float64</th><th>float64</th><th>float64</th><th>float64</th><th>float64</th><th>float64</th><th>float64</th><th>float64</th><th>float64</th><th>float64</th><th>float64</th><th>float64</th><th>float64</th><th>float64</th><th>float64</th><th>float64</th><th>float64</th><th>float64</th><th>float64</th><th>float64</th><th>float64</th><th>float64</th><th>float64</th><th>float64</th><th>float64</th><th>float64</th><th>float64</th><th>float64</th><th>float64</th><th>float64</th><th>float64</th><th>float64</th><th>float64</th><th>float64</th><th>float64</th><th>float64</th><th>float64</th><th>float64</th><th>float64</th><th>float64</th><th>float64</th><th>float64</th><th>float64</th><th>float64</th><th>float64</th><th>float64</th><th>float64</th><th>float64</th><th>float64</th><th>float64</th><th>float64</th><th>float64</th><th>float64</th><th>float64</th><th>float64</th><th>float64</th><th>float64</th><th>float64</th><th>float64</th><th>float64</th><th>float64</th><th>float64</th><th>float64</th><th>float64</th><th>float64</th><th>float64</th><th>float64</th><th>float64</th><th>float64</th><th>float64</th><th>float64</th><th>float64</th><th>float64</th><th>float64</th><th>float64</th><th>float64</th><th>float64</th><th>float64</th><th>float64</th><th>float64</th><th>float64</th><th>float64</th><th>float64</th><th>float64</th><th>float64</th><th>float64</th><th>float64</th><th>float64</th><th>float64</th><th>float64</th><th>float64</th><th>float64</th><th>float64</th><th>float64</th><th>float64</th><th>float64</th><th>float64</th><th>float64</th><th>float64</th><th>float64</th><th>float64</th><th>float64</th><th>float64</th><th>float64</th><th>float64</th><th>float64</th><th>float64</th><th>float64</th><th>float64</th><th>float64</th><th>float64</th><th>float64</th><th>float64</th><th>float64</th><th>float64</th><th>float64</th><th>float64</th><th>float64</th><th>float64</th><th>float64</th><th>float64</th><th>float64</th><th>float64</th><th>float64</th><th>float64</th><th>float64</th><th>float64</th><th>float64</th><th>float64</th><th>float64</th><th>float64</th><th>float64</th><th>float64</th><th>float64</th><th>float64</th><th>float64</th><th>float64</th><th>float64</th><th>float64</th><th>float64</th><th>float64</th><th>float64</th><th>float64</th><th>float64</th><th>float64</th><th>float64</th><th>float64</th><th>float64</th><th>float64</th><th>float64</th><th>float64</th><th>float64</th><th>float64</th><th>float64</th><th>float64</th><th>float64</th><th>float64</th><th>float64</th><th>float64</th><th>float64</th><th>float64</th><th>float64</th><th>float64</th><th>float64</th><th>float64</th><th>float64</th><th>float64</th><th>float64</th><th>float64</th><th>float64</th><th>float64</th><th>float64</th><th>float64</th><th>float64</th><th>float64</th><th>float64</th><th>float64</th><th>float64</th><th>float64</th><th>float64</th><th>float64</th><th>float64</th><th>float64</th><th>float64</th><th>float64</th><th>float64</th><th>float64</th><th>float64</th><th>float64</th><th>float64</th><th>float64</th><th>float64</th><th>float64</th><th>float64</th><th>float64</th><th>float64</th><th>float64</th><th>float64</th><th>float64</th><th>float64</th><th>float64</th><th>float64</th><th>float64</th><th>float64</th><th>float64</th><th>float64</th><th>float64</th><th>float64</th><th>float64</th><th>float64</th><th>float64</th><th>float64</th><th>float64</th><th>float64</th><th>float64</th><th>float64</th><th>float64</th><th>float64</th><th>float64</th><th>float64</th><th>float64</th><th>float64</th><th>float64</th><th>float64</th><th>float64</th><th>float64</th><th>float64</th><th>float64</th><th>float64</th><th>float64</th><th>float64</th><th>float64</th><th>float64</th><th>float64</th><th>float64</th><th>float64</th><th>float64</th><th>float64</th><th>float64</th><th>float64</th><th>float64</th><th>float64</th><th>float64</th><th>float64</th><th>float64</th><th>float64</th><th>float64</th><th>float64</th><th>float64</th><th>float64</th><th>float64</th><th>float64</th><th>float64</th><th>float64</th><th>float64</th><th>float64</th><th>float64</th><th>float64</th><th>float64</th><th>float64</th><th>float64</th><th>float64</th><th>float64</th><th>float64</th><th>float64</th><th>float64</th><th>float64</th><th>float64</th><th>float64</th><th>float64</th><th>float64</th><th>float64</th><th>float64</th><th>float64</th><th>float64</th><th>float64</th><th>float64</th><th>float64</th><th>float64</th><th>float64</th><th>float64</th><th>float64</th><th>float64</th><th>float64</th><th>float64</th></tr></thead>\n",
       "<tr><td>505782.0</td><td>0.9683</td><td>0.6999960375772609</td><td>0.0006295501150774261</td><td>0.0</td><td>0.0</td><td>0.4955140863930883</td><td>0.028441412225775183</td><td>1.2415080795993678</td><td>0.09616710945674754</td><td>0.500422870545744</td><td>0.08771022789746441</td><td>50.489496019243404</td><td>5.467294346186366</td><td>53.69995646381177</td><td>6.0318675365350645</td><td>164.21498961003937</td><td>18.35350102113471</td><td>225.7093712484736</td><td>26.855927400772583</td><td>0.021006456008331804</td><td>0.013333524594401583</td><td>-2.582671450713414</td><td>0.02525623336314459</td><td>1.1704872997045501</td><td>0.04792286129085611</td><td>4.112210220080205</td><td>0.05819262743237684</td><td>1.8619010403615457</td><td>0.02900555871849834</td><td>0.8976534239065459</td><td>0.06725575599605804</td><td>0.36197379344756053</td><td>0.07738485631197041</td><td>5.167315456476821</td><td>2.6034590161237263</td><td>1587.6613812060893</td><td>1567.835961849525</td><td>0.1494847390737793</td><td>0.1916923274682821</td><td>64.45983071361542</td><td>34.328050827144914</td><td>1674.5103140773615</td><td>2845.0505994899454</td><td>0.0010918649683320826</td><td>0.0014184679943257247</td><td>3.356747196578417e+20</td><td>1.6783735982892087e+19</td><td>444.0844009183881</td><td>62.41513452750892</td><td>34.45634408871569</td><td>14.480354668481358</td><td>246.69512328253916</td><td>12.968228830650688</td><td>11273878485.268677</td><td>6574092387.94233</td><td>19912477015.36374</td><td>9357317988.254286</td><td>9.376024344842937e+55</td><td>6.21396515490991e+54</td><td>0.00028874034860957556</td><td>1.2105897601902722e-05</td><td>0.000451893788760743</td><td>1.6292025261813087e-05</td><td>0.012100473035011832</td><td>0.000269697462467186</td><td>0.0002530638357137527</td><td>1.1010376138766599e-05</td><td>0.0006136062421059973</td><td>1.902395227601612e-05</td><td>3.491511396432236e-09</td><td>2.0897823499656545e-10</td><td>4.6932193095653254e-05</td><td>2.3721393470913206e-06</td><td>0.004189080302316297</td><td>4.780946387522323e-05</td><td>1.0901182302693118e-20</td><td>1.7837050693519866e-21</td><td>5.291468212016204e-24</td><td>7.668664939802554e-25</td><td>9.367046757027788e-24</td><td>1.3441487731481987e-24</td><td>5.053065533319935e-23</td><td>7.234735465663457e-24</td><td>3.2365012252241027e-23</td><td>4.688204088149858e-24</td><td>1.0693254011053222e-23</td><td>1.5337605665094554e-24</td><td>4.122453799152284e-21</td><td>3.2278236540042247e-22</td><td>2.667774660933955e-21</td><td>2.0895937003327727e-22</td><td>7.22852561110442e-18</td><td>5.094939228139983e-19</td><td>1.2474755047217931e-18</td><td>8.70597935836032e-20</td><td>1.957348885700646e-19</td><td>1.3463504818720362e-20</td><td>4.409282527851095e-19</td><td>3.102641750429056e-20</td><td>9.240092734833855e-23</td><td>8.387923658265938e-24</td><td>5.940272722120938e-21</td><td>4.711389634392308e-22</td><td>2.2687100151560684e-22</td><td>1.6193354047836281e-22</td><td>6.764406918891432e-22</td><td>4.828210680048929e-22</td><td>5.561010543052316e-20</td><td>2.989889628236794e-21</td><td>4.452508615917245e-22</td><td>1.2036524050967046e-22</td><td>3.649429717924372e-21</td><td>6.683098144841607e-22</td><td>5.007888500601135e-21</td><td>9.165326099341253e-22</td><td>1.4545387785484347e-18</td><td>8.015389903684378e-20</td><td>4.452214174603486e-18</td><td>2.4534734669351786e-19</td><td>2.071682754404771e-18</td><td>1.3491327273426183e-19</td><td>8.717418676587785e-19</td><td>5.733267630488237e-20</td><td>4.1505427510421463e-19</td><td>2.7090463222537077e-20</td><td>2.134293414675237e-21</td><td>5.805215167492791e-22</td><td>1.7084193850908023e-21</td><td>4.310904558283721e-22</td><td>4.1364910570519684e-20</td><td>6.480612155036529e-21</td><td>1.112875527896477e-19</td><td>1.743524554501234e-20</td><td>0.04609038049528488</td><td>0.0023087942987814495</td><td>0.039583427101866686</td><td>0.0020997601006338593</td><td>0.07341224825001195</td><td>0.0009644025421243741</td><td>0.15802920834444742</td><td>0.003211867121672727</td><td>0.000608328913951512</td><td>1.8931652363541058e-05</td><td>0.003327936777416901</td><td>3.803839299090893e-05</td><td>0.0015890324526393728</td><td>3.6371491040648804e-05</td><td>0.029974201285631587</td><td>0.0011490025041341148</td><td>0.004863456933998509</td><td>0.00012603358828195695</td><td>0.0003868795624446282</td><td>1.5602990748266082e-05</td><td>0.0005209927692346143</td><td>1.7725631209989175e-05</td><td>0.0006113044837857081</td><td>1.9134734044998874e-05</td><td>0.0007228749407019768</td><td>2.150984686422939e-05</td><td>0.000842322050683872</td><td>2.3329654245038665e-05</td><td>0.0011958748813923352</td><td>2.9237308811267053e-05</td><td>0.001596771636114648</td><td>3.696220684014401e-05</td><td>0.0021854749900758128</td><td>4.82415336498248e-05</td><td>0.0023650351024597327</td><td>4.531858534981895e-05</td><td>0.002051788729653033</td><td>4.272976137208638e-05</td><td>0.004577417819357358</td><td>4.742495386014289e-05</td><td>0.003576536989906446</td><td>0.00012178135980490837</td><td>0.002586840295270006</td><td>5.494118594477385e-05</td><td>0.003946201219035855</td><td>8.316202247542486e-05</td><td>0.0009913010006980683</td><td>2.579771170794174e-05</td><td>0.003288219564235466</td><td>3.9196807493541605e-05</td><td>0.0016616481442164707</td><td>3.7719366902964204e-05</td><td>0.01354169526529593</td><td>0.00034461506834721086</td><td>0.014124373289365461</td><td>0.0012865364209662428</td><td>0.03156643412897049</td><td>0.0012274753014321971</td><td>0.03146305644820519</td><td>0.0015333240305106602</td><td>0.023035030982836734</td><td>0.0007765183408037518</td><td>529.27116535727</td><td>15.566798981096175</td><td>2.8873040808042267</td><td>1.0</td><td>0.7</td><td>0.7</td><td>7.318220016454444</td><td>2.388557530193323</td><td>0.0</td><td>0.0</td><td>217.5</td><td>35.0</td><td>2.0</td><td>0.1</td><td>2.5</td><td>2.511809726276805</td><td>1.0</td><td>0.0</td><td>0.0</td><td>300.0</td><td>-1.0</td><td>100.0</td><td>0.0004</td><td>0.5136308861552338</td><td>1.3278891291140729</td><td>0.47782875754713267</td><td>47.92931965840183</td><td>49.382116173146244</td><td>150.7588339738691</td><td>206.99702563334537</td><td>0.017707742946920447</td><td>-2.5416417797206106</td><td>1.2364266322454927</td><td>4.193469681164293</td><td>1.8946238773430613</td><td>0.9501978400852273</td><td>0.41121608976572455</td><td>600.0</td><td>5.0</td><td>600.0</td><td>0.05</td><td>100.0</td><td>50.0</td><td>460.5713826121582</td><td>1.0</td><td>0.0004</td><td>10.0</td><td>6097.223062891958</td><td>1.980746208001737e+26</td><td>0.9683</td><td>8.971438869490645e+38</td><td>1.2713011375625616e+40</td><td>9.470801290986412e+21</td><td>3.2736439096667066e+20</td><td>1.1967283926294392e+21</td><td>1.7698343962342458e+22</td><td>3.4656984109340493e+22</td><td>3.391455494233992e+22</td><td>3.5440331355947237e+22</td><td>5.693554305615083e+22</td><td>4.586107107463564e+22</td><td>3.0984357474572e+20</td><td>8.340147221807447e+22</td><td>8.315146462310616e+22</td><td>1.0188851907562558e+23</td><td>6.111436455463669e+22</td><td>46124308531.96005</td><td>452.13047013208245</td><td>23.24767427285311</td><td>230.69311567228644</td><td>9.22917325083495e+38</td><td>3.3280225564093063e+38</td><td>7.473908532731557e+34</td><td>3.3272751655560334e+38</td><td>6.594878813337312e+37</td><td>8.569685369501217e+38</td><td>16667581294.17228</td><td>16643404401.235355</td><td>24176892.936921485</td><td>29456727475.92381</td><td>27173972974.001823</td><td>2282754501.921986</td><td>9.1827882579328e+55</td><td>1.5954481218085894e+52</td><td>9.181192809810991e+55</td><td>0.00023573575709708283</td><td>0.00026982588989028295</td><td>0.0005794295743319399</td><td>0.0015491245312157966</td><td>0.003360415034915086</td><td>0.004942438819190937</td><td>0.029803220200099637</td><td>0.022689889388176447</td><td>0.031737108893863546</td><td>0.01554812906186859</td><td>0.03322437950620827</td><td>0.0003629212140569195</td><td>0.0004934252749852158</td><td>0.0005818015702679667</td><td>0.0006908669637672082</td><td>0.000808486028527293</td><td>0.0011581644028039427</td><td>0.001555926943018714</td><td>0.0021431983747599984</td><td>0.002307233587464976</td><td>0.00206038871052314</td><td>0.004517954301075195</td><td>0.0035811553862175444</td><td>0.002529455098086571</td><td>0.003744467740650732</td><td>0.0004265601672648387</td><td>0.0005845863689562354</td><td>0.0009557002365422479</td><td>0.001621208345263427</td><td>0.003315385372619887</td><td>0.012410685866243212</td><td>0.013848575769222262</td><td>0.04833417369637692</td><td>0.04145019197785103</td><td>0.004307363869087696</td><td>4.312042512783026e-05</td><td>4.037153045185486e-09</td><td>0.07482753689291154</td><td>0.15296427825897113</td><td>1.03243633889246e-20</td><td>5.014926449101749e-24</td><td>8.880965570515584e-24</td><td>4.7912846629742297e-23</td><td>3.0674130395158706e-23</td><td>1.0138546135528004e-23</td><td>4.024709298100012e-21</td><td>2.6040758299454625e-21</td><td>7.121710196916005e-18</td><td>1.2283093302070215e-18</td><td>1.926524488597525e-19</td><td>4.343391615967928e-19</td><td>9.075224755951308e-23</td><td>5.875919291394057e-21</td><td>2.0602342629858672e-22</td><td>6.142815917213591e-22</td><td>5.456958248195391e-20</td><td>4.1613478211926885e-22</td><td>3.4413209427181885e-21</td><td>4.7223024263461415e-21</td><td>1.4248661205855238e-18</td><td>4.3613886109298986e-18</td><td>2.0343888984357436e-18</td><td>8.56302295047271e-19</td><td>4.0754654435281483e-19</td><td>1.9938071348975976e-21</td><td>1.6039742766338407e-21</td><td>3.925268203594949e-20</td><td>1.0560489634617321e-19</td><td>0.0005434329505078495</td><td>5.752952229174964e-05</td><td>0.00039970126817934215</td><td>4.422355117585908e-05</td><td>0.002380246762186289</td><td>0.00023886708810822753</td><td>0.0036491777282208204</td><td>0.0003658149712124502</td><td>0.00786086916923523</td><td>0.0007866394547996384</td><td>0.011228068731725216</td><td>0.001123818514125271</td><td>0.035082362592220306</td><td>0.0035095145612552697</td><td>0.024365730583667755</td><td>0.0024369837778642272</td><td>0.03134078159928322</td><td>0.003134492175647252</td><td>0.038439370691776276</td><td>0.003844609877734869</td><td>0.0427732914686203</td><td>0.00427870731631275</td><td>0.0006790985353291035</td><td>0.00012006268561066547</td><td>0.00016400654567405581</td><td>-0.00016400654567405581</td><td>0.000860253581777215</td><td>0.0001289141934042967</td><td>0.0002061760751530528</td><td>-0.0002061760751530528</td><td>0.00108585343696177</td><td>0.00014419322215304133</td><td>0.0001936107873916626</td><td>-0.0001936107873916626</td><td>0.00019056189921684563</td><td>-0.00019056189921684563</td><td>0.0013863546773791313</td><td>0.00020377232428175714</td><td>0.003377411747351289</td><td>0.00036322007271504377</td><td>0.0006044789915904403</td><td>0.00018529191931241113</td><td>0.007032646797597408</td><td>0.0007304812184210848</td><td>0.002899458399042487</td><td>0.000340014246931793</td><td>0.005786756984889507</td><td>0.0006582310986492101</td><td>0.00456294184550643</td><td>0.00048221624253660245</td><td>0.0003741415566764772</td><td>4.932777333576531e-05</td><td>0.00036489919875748456</td><td>6.048544681826254e-05</td><td>0.0008993893279694021</td><td>0.00010744785369586413</td><td>0.0019323768792673945</td><td>0.00020159698059879567</td><td>0.004824051633477211</td><td>0.0004912445129563401</td><td>0.010936994105577469</td><td>0.0011137016377582047</td><td>0.01182673778384924</td><td>0.0011861372123708606</td><td>0.04182389751076698</td><td>0.004195873482558091</td><td>0.028746867552399635</td><td>0.002886622428540248</td><td>0.0037902563344687223</td><td>0.00038018446780094684</td></tr>\n",
       "</table></div>"
      ],
      "text/plain": [
       "<Table length=1>\n",
       "ID_COS20_Classic  specz  ...     hst.wfc.F814W       hst.wfc.F814W_err   \n",
       "                         ...                                             \n",
       "    float64      float64 ...        float64               float64        \n",
       "---------------- ------- ... --------------------- ----------------------\n",
       "        505782.0  0.9683 ... 0.0037902563344687223 0.00038018446780094684"
      ]
     },
     "execution_count": 5,
     "metadata": {},
     "output_type": "execute_result"
    }
   ],
   "source": [
    "# Show that they all have the same COSMOS2020/Classic ID\n",
    "for ii in range(comp_ALL_mask.sum()): \n",
    "    print(f\"COSMOS2020/Classic ID = {matched['Id_COS20_Classic'][ii]}\")\n",
    "\n",
    "# Load in the CIGALE SED Results\n",
    "cigale = Table.read(\"../sed_fitting/cigale/cigale_results_specz_compilation_DR1.00.fits\")\n",
    "\n",
    "# Mask the CIGALE Results to only our source of interest\n",
    "mask = cigale['ID_COS20_Classic'] == matched['Id_COS20_Classic'][0]\n",
    "\n",
    "# Show the CIGALE Results\n",
    "cigale[mask]\n"
   ]
  },
  {
   "cell_type": "markdown",
   "metadata": {},
   "source": [
    "This is a lot of information so let's parse out some of the parameters of interest"
   ]
  },
  {
   "cell_type": "code",
   "execution_count": 6,
   "metadata": {},
   "outputs": [
    {
     "name": "stdout",
     "output_type": "stream",
     "text": [
      "Stellar Mass (10^10 Msol): bayes.stellar.m_star\n",
      "      solMass       \n",
      "--------------------\n",
      "  1.9912477015363739\n",
      "\n",
      "E(B-V): bayes.attenuation.E_BV_lines\n",
      "            mag             \n",
      "----------------------------\n",
      "          0.6999960375772609\n",
      "\n",
      "SFR in 10 Myrs (Msol/yr): bayes.sfh.sfr10Myrs\n",
      "    solMass / yr   \n",
      "-------------------\n",
      " 246.69512328253916\n",
      "\n",
      "SFR in 100 Myrs (Msol/yr): bayes.sfh.sfr100Myrs\n",
      "    solMass / yr    \n",
      "--------------------\n",
      "   34.45634408871569\n",
      "\n",
      "EW([OIII] + Hbeta): bayes.param.EW(500.7/1.0)\n",
      "            nm           \n",
      "-------------------------\n",
      "       268.40444209309453\n"
     ]
    }
   ],
   "source": [
    "# Show Me Some Key Parameters\n",
    "print(f\"Stellar Mass (10^10 Msol): {cigale['bayes.stellar.m_star'][mask]/1e10}\")\n",
    "print(\"\")\n",
    "print(f\"E(B-V): {cigale['bayes.attenuation.E_BV_lines'][mask]}\")\n",
    "print(\"\")\n",
    "print(f\"SFR in 10 Myrs (Msol/yr): {cigale['bayes.sfh.sfr10Myrs'][mask]}\")\n",
    "print(\"\")\n",
    "print(f\"SFR in 100 Myrs (Msol/yr): {cigale['bayes.sfh.sfr100Myrs'][mask]}\")\n",
    "print(\"\")\n",
    "print(f\"EW([OIII] + Hbeta): {cigale['bayes.param.EW(500.7/1.0)'][mask] + cigale['bayes.param.EW(495.9/1.0)'][mask] + cigale['bayes.param.EW(486.1/1.0)'][mask]}\")"
   ]
  },
  {
   "cell_type": "markdown",
   "metadata": {},
   "source": [
    "Now let's look at the LePhare Results. The ID scheme is exactly the same (COSMOS2020/Classic)"
   ]
  },
  {
   "cell_type": "code",
   "execution_count": 10,
   "metadata": {},
   "outputs": [
    {
     "data": {
      "text/html": [
       "<div><i>Table length=1</i>\n",
       "<table id=\"table140574693913312\" class=\"table-striped table-bordered table-condensed\">\n",
       "<thead><tr><th>ID_COS20_Classic</th><th>zspec</th><th>model</th><th>age</th><th>ebv</th><th>attenuation law</th><th>MFUV</th><th>MNUV</th><th>MU</th><th>MG</th><th>MR</th><th>MI</th><th>MZ</th><th>MY</th><th>MJ</th><th>MH</th><th>MK</th><th>mass_med</th><th>mass_med_min68</th><th>mass_med_max68</th><th>mass_best</th><th>SFR_med</th><th>SFR_med_min68</th><th>SFR_med_max68</th><th>SFR_best</th><th>sSFR_med</th><th>sSFR_med_min68</th><th>sSFR_med_max68</th><th>sSFR_best</th></tr></thead>\n",
       "<thead><tr><th>int32</th><th>float32</th><th>int16</th><th>float32</th><th>float32</th><th>int16</th><th>float64</th><th>float64</th><th>float64</th><th>float64</th><th>float64</th><th>float64</th><th>float64</th><th>float64</th><th>float64</th><th>float64</th><th>float64</th><th>float64</th><th>float64</th><th>float64</th><th>float32</th><th>float64</th><th>float64</th><th>float32</th><th>float64</th><th>float64</th><th>float64</th><th>float64</th><th>float64</th></tr></thead>\n",
       "<tr><td>505782</td><td>0.9683</td><td>4</td><td>9.653</td><td>0.6</td><td>1</td><td>-15.5781</td><td>-17.31912</td><td>-19.30978</td><td>-20.64286</td><td>-21.47853</td><td>-22.04046</td><td>-22.46565</td><td>-22.75955</td><td>-22.9999</td><td>-23.33633</td><td>-23.21634</td><td>10.44772</td><td>10.16603</td><td>10.70983</td><td>10.868</td><td>1.68124</td><td>1.3013</td><td>2.03106</td><td>1.3013</td><td>-8.75787</td><td>-9.4917</td><td>-8.1951</td><td>-9.4917</td></tr>\n",
       "</table></div>"
      ],
      "text/plain": [
       "<Table length=1>\n",
       "ID_COS20_Classic  zspec  model ... sSFR_med_min68 sSFR_med_max68 sSFR_best\n",
       "     int32       float32 int16 ...    float64        float64      float64 \n",
       "---------------- ------- ----- ... -------------- -------------- ---------\n",
       "          505782  0.9683     4 ...        -9.4917        -8.1951   -9.4917"
      ]
     },
     "execution_count": 10,
     "metadata": {},
     "output_type": "execute_result"
    }
   ],
   "source": [
    "# Load in the LePHARE SED Results\n",
    "lephare = Table.read(\"../sed_fitting/lephare/lephare_results_specz_compilation_DR1.00.fits\")\n",
    "\n",
    "# Mask the LePHARE Results to only our source of interest\n",
    "mask = lephare['ID_COS20_Classic'] == matched['Id_COS20_Classic'][0]\n",
    "\n",
    "# Show the LePHARE Results\n",
    "lephare[mask]"
   ]
  },
  {
   "cell_type": "markdown",
   "metadata": {},
   "source": [
    "We see that based on both the CIGALE and LePHARE results, our source of interest seems to be a massive (10<sup>10.3 - 10.9</sup> Msol) and dusty (*E(B - V)* = 0.7 mag) galaxy. The 100 Myr Star Formation Rate from CIGALE and LePHARE are 34 and 48 Msol/yr, respectively. However, CIGALE is also showing a 10 Myr SFR that is an order-of-magnitude higher at 247 Msol/yr with [OIII]+Hbeta Equivalent Width of 2684 Angstom (rest-frame). This would suggest our source of interest is a heavily star-forming system. \n",
    "\n",
    "## Get a Quick View of what the SED looks like\n",
    "Although we don't have the SED fits yet loaded, one could also look at the observed photometry to see not only the dusty shape of our source of interest, but also a jump in HSC/Y magnitudes which could signify a significant contribution of [OIII]+Hbeta emission at *z*<sub>spec</sub> = 0.9683. We can even further investigate our source of interest by looking at the original datasets (e.g., LEGA-C DR3 has publicly available 1D Spectra via the ESO Science Portal)."
   ]
  },
  {
   "cell_type": "code",
   "execution_count": null,
   "metadata": {},
   "outputs": [
    {
     "data": {
      "image/png": "[encoded data removed]",
      "text/plain": [
       "<Figure size 864x576 with 1 Axes>"
      ]
     },
     "metadata": {
      "needs_background": "light"
     },
     "output_type": "display_data"
    }
   ],
   "source": [
    "# Load in the Observed Photometry\n",
    "# Because our source is at z = 0.9683, we will load the observations FITS file within zbin_0p75_1p00\n",
    "# Reason these were split in redshift bins was due to computational purposes on the RIT HPC\n",
    "obs = Table.read(\"../sed_fitting/cigale/zbin_0p75_1p00/out/observations.fits\")\n",
    "\n",
    "# Find the source \n",
    "match = obs['id'] == matched['Id_COS20_Classic'][0]\n",
    "\n",
    "# Limit to our source of interest\n",
    "obs = obs[match]\n",
    "\n",
    "# Filter Properties (Cleaning out just so we can better see the SED Shape)\n",
    "filters = {\"cfht.megacam.u_9302\": 3676.12,\n",
    "           \"CFHT_u\": 3799.43,\n",
    "           \"subaru.hsc.g\": 4710.97,\n",
    "           \"subaru.hsc.r\": 6218.44,\n",
    "           \"subaru.hsc.i\": 7727.01,\n",
    "           \"subaru.hsc.z\": 8908.50,\n",
    "           \"subaru.hsc.y\": 9775.07,\n",
    "           \"vista.vircam.Y\": 10210.71,\n",
    "           \"vista.vircam.J\": 12524.83,\n",
    "           \"vista.vircam.H\": 16432.45,\n",
    "           \"vista.vircam.Ks\": 21521.52,\n",
    "           \"spitzer.irac.ch1\": 35378.41,\n",
    "           \"spitzer.irac.ch2\": 44780.49,\n",
    "           }\n",
    "\n",
    "plt.figure(figsize=(12, 8))\n",
    "# Now Let's Plot the Photometry\n",
    "for key in filters.keys():\n",
    "    plt.errorbar([filters[key]],[obs[key]], yerr=obs[key+\"_err\"],fmt = \"o\",color=\"black\")\n",
    "\n",
    "plt.xlabel(\"Observed Wavelength (Angstrom)\")\n",
    "plt.ylabel(\"Flux Density (mJy)\")\n",
    "plt.xscale(\"log\")\n",
    "plt.yscale(\"log\")\n",
    "plt.show()"
   ]
  }
 ],
 "metadata": {
  "kernelspec": {
   "display_name": "base",
   "language": "python",
   "name": "python3"
  },
  "language_info": {
   "codemirror_mode": {
    "name": "ipython",
    "version": 3
   },
   "file_extension": ".py",
   "mimetype": "text/x-python",
   "name": "python",
   "nbconvert_exporter": "python",
   "pygments_lexer": "ipython3",
   "version": "3.8.8"
  }
 },
 "nbformat": 4,
 "nbformat_minor": 2
}
