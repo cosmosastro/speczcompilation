{
 "cells": [
  {
   "cell_type": "code",
   "execution_count": 60,
   "metadata": {},
   "outputs": [],
   "source": [
    "# Import Libraries that are needed\n",
    "import requests\n",
    "import xml.etree.ElementTree as ET \n",
    "from IPython.display import display, Image\n",
    "from astropy.io import fits\n",
    "from astropy.coordinates import SkyCoord\n",
    "from astropy.table import Table\n",
    "import astropy.units as u\n",
    "\n",
    "import matplotlib.pyplot as plt\n",
    "plt.rcParams['text.usetex'] = False\n",
    "\n",
    "import numpy as np"
   ]
  },
  {
   "cell_type": "markdown",
   "metadata": {},
   "source": [
    "# Basic Tutorial: (Query the Compilation and Ancillary Data Sets)\n",
    "\n",
    "This tutorial is designed to demonstrate how one could query a source of interest, find all matches, and extract ancillary data from the SED fits.\n",
    "\n",
    "Say there is an interesting source at the following coordinate\n",
    "\n",
    "*RA = 150.42458 deg*\n",
    "*DEC = 1.89911 deg*\n",
    "\n",
    "We may be interested in this target for follow-up spectroscopy and want to know what do we already have covered for this single source. Perhaps, we want to follow-up this source with Keck/MOSFIRE or JWST/NIRSpec but want to see if there is any optical coverage that could enhance our science case.\n",
    "\n",
    "## How to View the Source using IRSA\n",
    "\n",
    "First, let's take a close look at what our object looks like. We can easily achieve this using via IRSA"
   ]
  },
  {
   "cell_type": "code",
   "execution_count": 61,
   "metadata": {},
   "outputs": [
    {
     "name": "stdout",
     "output_type": "stream",
     "text": [
      "Fetching image from:  https://irsa.ipac.caltech.edu:443/workspace/TMP_QwDZaw_26975/Cutouts/150.42458_1.89911.v0001/results/acs_mosaic_2.0/0001_150.42458000_1.89911000_acs_I_mosaic_30mas_sci.jpg\n",
      " \n"
     ]
    },
    {
     "data": {
      "text/html": [
       "<img src=\" https://irsa.ipac.caltech.edu:443/workspace/TMP_QwDZaw_26975/Cutouts/150.42458_1.89911.v0001/results/acs_mosaic_2.0/0001_150.42458000_1.89911000_acs_I_mosaic_30mas_sci.jpg\n",
       " \"/>"
      ],
      "text/plain": [
       "<IPython.core.display.Image object>"
      ]
     },
     "metadata": {},
     "output_type": "display_data"
    }
   ],
   "source": [
    "# Define our source of interest\n",
    "RA = 150.42458\n",
    "DEC = 1.89911\n",
    "\n",
    "# IRSA link for a 5 arcsec cutout only for HST/ACS F814W imaging\n",
    "# This will give an XML output\n",
    "link_to_source = f\"https://irsa.ipac.caltech.edu/cgi-bin/Cutouts/nph-cutouts?mission=COSMOS&max_size=180&locstr={RA}+{DEC}&sizeX=5&ntable_cutouts=18&cutouttbl1=acs_mosaic_2.0&mode=PI\"\n",
    "\n",
    "\n",
    "# Let's not get the request from IRSA's COSMOS Cutout Feature\n",
    "xml_data = requests.get(link_to_source).content\n",
    "\n",
    "# Now We are going to parse through the XML data to get the cutout\n",
    "# This is located in image > cutouts > jpg\n",
    "root = ET.fromstring(xml_data)\n",
    "for images in root.findall('.//images'):\n",
    "    cutouts = images.find('cutouts')  # Find 'cutouts' under 'images'\n",
    "    if cutouts is not None:\n",
    "        jpg = cutouts.find('jpg')  # Find 'jpg' under 'cutouts'\n",
    "        if jpg is not None:\n",
    "            jpg_url = jpg.text  # Extract the URL from the 'jpg' tag\n",
    "            print(\"Fetching image from:\", jpg_url)\n",
    "\n",
    "            # Now Let's Display tthe Image\n",
    "            img = Image(url = jpg_url)\n",
    "            display(img)\n",
    "        else:\n",
    "            ValueError(\"No JPG Image Found\")\n"
   ]
  },
  {
   "cell_type": "markdown",
   "metadata": {},
   "source": [
    "## Query the Compilation\n",
    "\n",
    "Now I want to query through the compilation to find all sources matching my source of interest"
   ]
  },
  {
   "cell_type": "code",
   "execution_count": 62,
   "metadata": {},
   "outputs": [
    {
     "name": "stdout",
     "output_type": "stream",
     "text": [
      "6 Matches Found\n"
     ]
    }
   ],
   "source": [
    "# Define SkyCoord for My Source of Interest\n",
    "my_source = SkyCoord(ra=RA, dec=DEC, unit=(u.deg, u.deg))\n",
    "\n",
    "# Load in the Compilation\n",
    "compilation_ALL = fits.open(\"../specz_compilation/specz_compilation_COSMOS_DR1.1_all.fits\")[1].data\n",
    "\n",
    "# Define Coordinates within Astropy SkyCoord\n",
    "# Note that we are using the astrometry-corrected coordinates NOT the original\n",
    "# Reason is that each program had their own astrometric calibration and we corrected for this using the COSMOS2020/Classic astrometry (calibrated on GAIA DR1)\n",
    "coords_comp_ALL = SkyCoord(ra=compilation_ALL['ra_corrected'], dec=compilation_ALL['dec_corrected'], unit=(u.deg, u.deg))\n",
    "\n",
    "# Now Let's Query the compilation\n",
    "d2d = my_source.separation(coords_comp_ALL)\n",
    "comp_ALL_mask = d2d < 1.*u.arcsec\n",
    "\n",
    "# Double Check if there are matches:\n",
    "if True not in comp_ALL_mask:\n",
    "    print(\"No Matches Found\")\n",
    "else:\n",
    "    print(f\"{comp_ALL_mask.sum()} Matches Found\")\n"
   ]
  },
  {
   "cell_type": "markdown",
   "metadata": {},
   "source": [
    "We now know in this case there are 6 matches found for this given source. This means that there are 6 individual redshift measurements for this one source. \n",
    "\n",
    "Let's now figure out which surveys observed this object as well as the redshifts and quality flags assigned"
   ]
  },
  {
   "cell_type": "code",
   "execution_count": 63,
   "metadata": {},
   "outputs": [
    {
     "name": "stdout",
     "output_type": "stream",
     "text": [
      "SurveyID = 39 Specz = 0.96884 Flag = 2 GroupID = 278896\n",
      "SurveyID = 38 Specz = 0.96867 Flag = 4 GroupID = 278896\n",
      "SurveyID = 37 Specz = 0.96868 Flag = 2 GroupID = 278896\n",
      "SurveyID = 115 Specz = 0.97159 Flag = 2 GroupID = 278896\n",
      "SurveyID = 72 Specz = 0.9683 Flag = 4 GroupID = 278896\n",
      "SurveyID = 136 Specz = 0.969 Flag = 1 GroupID = 278896\n"
     ]
    }
   ],
   "source": [
    "matched = compilation_ALL[comp_ALL_mask]\n",
    "for ii in range(comp_ALL_mask.sum()):\n",
    "    print(f\"SurveyID = {matched['survey'][ii]} Specz = {matched['specz'][ii]} Flag = {matched['flag'][ii]} GroupID = {matched['groupid'][ii]}\")"
   ]
  },
  {
   "cell_type": "markdown",
   "metadata": {},
   "source": [
    "The GroupID referenced above is the ID associated with redshift measurements corresponding to the same object (e.g., duplicate measurements). Refering to the `README` for the compilation as well as Table 1 of the Compilation paper, we find that this one source was observed by the following programs\n",
    "\n",
    "| Survey ID  | Survey Name    | Instrument     | Observing Classification |  Reference |\n",
    "| ---------  | -----------    | ------------   | ------------------------ | ---------- |\n",
    "| 37         | DESI-DR1       | Mayall/DESI    |  Optical                 | [DESI Collaboration et al. (2025)](https://ui.adsabs.harvard.edu/abs/2025arXiv250314745D/abstract) |\n",
    "| 38         | DESI-DR2       | Mayall/DESI    | Optical                  | [Ratajczak et al. (2025)](https://ui.adsabs.harvard.edu/abs/2025arXiv250809286R/abstract) |\n",
    "| 39         | DESI-EDR       | Mayall/DESI    | Optical                  | [Adame et al. (2024)](https://ui.adsabs.harvard.edu/abs/2024AJ....168...58D/abstract) |\n",
    "| 72         | LEGA-C DR3     | VLT/VIMOS      | Optical                  | [van der Wel et al. (2021)](https://ui.adsabs.harvard.edu/abs/2021ApJS..256...44V/abstract) |\n",
    "| 115        | PRIMUS         | Magellan/IMACS | Optical                  | [Coil et al. (2011)](https://ui.adsabs.harvard.edu/abs/2011ApJ...741....8C/abstract) |\n",
    "| 136        | zCOSMOS Bright | VLT/VIMOS      | Optical                  | [Lilly et al. (2007)](https://ui.adsabs.harvard.edu/abs/2007ApJS..172...70L/abstract), [2009](https://ui.adsabs.harvard.edu/abs/2009ApJS..184..218L/abstract) |\n",
    "\n",
    "We have determined then that all spectral coverage of this source was done within the optical with 3 different instruments and telescopes. Furthermore, we have determined that only LEGA-C DR3 and DESI-DR2 had the most robust detection with Flag = 4 and a z<sub>spec</sub> = 0.9683 and 0.96867, respectively, while PRIMUS, DESI-EDR, and DESI-DR1 report a moderate detection and zCOSMOS Bright finding a tentative detection. Given LEGA-C DR3 and DESI-DR2 have the most robust detections, the recency clause is applied such that the DESI-DR2 redshifts is recorded in the unique sources file of the compilation. However, this may be one such source that looking into would be useful to gauge what causes the redshift discrepancy (e.g., wavelength calibration issues or physical reasons)."
   ]
  },
  {
   "cell_type": "markdown",
   "metadata": {},
   "source": [
    "## Query the Ancillary Data Sets\n",
    "Now say we want to know what are the derived physical properties of this one object. We will need to first figure out the COSMOS2020/Classic ID and then match this with the CIGALE and LePHARE results FITS files. \n",
    "\n",
    "Two ways we can go about it. We can use the `_unique.fits` compilation file instead which for our source would be represented by the zCOSMOS Bright detection. The other way is using the `Id_COS20_Classic` that will be the same for all the sources as they are part of the same GroupID"
   ]
  },
  {
   "cell_type": "code",
   "execution_count": 64,
   "metadata": {},
   "outputs": [
    {
     "name": "stdout",
     "output_type": "stream",
     "text": [
      "COSMOS2020/Classic ID = 505782\n",
      "COSMOS2020/Classic ID = 505782\n",
      "COSMOS2020/Classic ID = 505782\n",
      "COSMOS2020/Classic ID = 505782\n",
      "COSMOS2020/Classic ID = 505782\n",
      "COSMOS2020/Classic ID = 505782\n"
     ]
    },
    {
     "data": {
      "text/html": [
       "<div><i>Table length=1</i>\n",
       "<table id=\"table140152343971968\" class=\"table-striped table-bordered table-condensed\">\n",
       "<thead><tr><th>ID_COS20_Classic</th><th>Id_specz</th><th>specz</th><th>bayes.attenuation.E_BV_lines</th><th>bayes.attenuation.E_BV_lines_err</th><th>bayes.nebular.logU</th><th>bayes.nebular.logU_err</th><th>bayes.nebular.zgas</th><th>bayes.nebular.zgas_err</th><th>bayes.param.EW(Halpha)</th><th>bayes.param.EW(Halpha)_err</th><th>bayes.param.EW(Hbeta)</th><th>bayes.param.EW(Hbeta)_err</th><th>bayes.param.EW(LyA)</th><th>bayes.param.EW(LyA)_err</th><th>bayes.param.EW(NII6584)</th><th>bayes.param.EW(NII6584)_err</th><th>bayes.param.EW(OII)</th><th>bayes.param.EW(OII)_err</th><th>bayes.param.EW(OIII4959)</th><th>bayes.param.EW(OIII4959)_err</th><th>bayes.param.EW(OIII5007)</th><th>bayes.param.EW(OIII5007)_err</th><th>bayes.param.beta0_calz94</th><th>bayes.param.beta0_calz94_err</th><th>bayes.param.beta_calz94</th><th>bayes.param.beta_calz94_err</th><th>bayes.param.restframe_cfht.megacam.u-subaru.suprime.V</th><th>bayes.param.restframe_cfht.megacam.u-subaru.suprime.V_err</th><th>bayes.param.restframe_galex.NUV-subaru.suprime.r</th><th>bayes.param.restframe_galex.NUV-subaru.suprime.r_err</th><th>bayes.param.restframe_subaru.suprime.V-paranal.vircam.J</th><th>bayes.param.restframe_subaru.suprime.V-paranal.vircam.J_err</th><th>bayes.param.restframe_subaru.suprime.r-paranal.vircam.J</th><th>bayes.param.restframe_subaru.suprime.r-paranal.vircam.J_err</th><th>bayes.sfh.age_burst</th><th>bayes.sfh.age_burst_err</th><th>bayes.sfh.age_main</th><th>bayes.sfh.age_main_err</th><th>bayes.sfh.f_burst</th><th>bayes.sfh.f_burst_err</th><th>bayes.sfh.tau_burst</th><th>bayes.sfh.tau_burst_err</th><th>bayes.sfh.tau_main</th><th>bayes.sfh.tau_main_err</th><th>bayes.stellar.metallicity</th><th>bayes.stellar.metallicity_err</th><th>bayes.param.restframe_Lnu(cfht.megacam.u)</th><th>bayes.param.restframe_Lnu(cfht.megacam.u)_err</th><th>bayes.param.restframe_Lnu(galex.FUV)</th><th>bayes.param.restframe_Lnu(galex.FUV)_err</th><th>bayes.param.restframe_Lnu(galex.NUV)</th><th>bayes.param.restframe_Lnu(galex.NUV)_err</th><th>bayes.param.restframe_Lnu(paranal.vircam.H)</th><th>bayes.param.restframe_Lnu(paranal.vircam.H)_err</th><th>bayes.param.restframe_Lnu(paranal.vircam.J)</th><th>bayes.param.restframe_Lnu(paranal.vircam.J)_err</th><th>bayes.param.restframe_Lnu(paranal.vircam.Ks)</th><th>bayes.param.restframe_Lnu(paranal.vircam.Ks)_err</th><th>bayes.param.restframe_Lnu(paranal.vircam.Y)</th><th>bayes.param.restframe_Lnu(paranal.vircam.Y)_err</th><th>bayes.param.restframe_Lnu(subaru.suprime.B)</th><th>bayes.param.restframe_Lnu(subaru.suprime.B)_err</th><th>bayes.param.restframe_Lnu(subaru.suprime.V)</th><th>bayes.param.restframe_Lnu(subaru.suprime.V)_err</th><th>bayes.param.restframe_Lnu(subaru.suprime.g)</th><th>bayes.param.restframe_Lnu(subaru.suprime.g)_err</th><th>bayes.param.restframe_Lnu(subaru.suprime.i)</th><th>bayes.param.restframe_Lnu(subaru.suprime.i)_err</th><th>bayes.param.restframe_Lnu(subaru.suprime.r)</th><th>bayes.param.restframe_Lnu(subaru.suprime.r)_err</th><th>bayes.param.restframe_Lnu(subaru.suprime.z)</th><th>bayes.param.restframe_Lnu(subaru.suprime.z)_err</th><th>bayes.param.restframe_Lnu(tophat.1500A.100A_wide)</th><th>bayes.param.restframe_Lnu(tophat.1500A.100A_wide)_err</th><th>bayes.sfh.sfr</th><th>bayes.sfh.sfr_err</th><th>bayes.sfh.sfr100Myrs</th><th>bayes.sfh.sfr100Myrs_err</th><th>bayes.sfh.sfr10Myrs</th><th>bayes.sfh.sfr10Myrs_err</th><th>bayes.stellar.m_gas</th><th>bayes.stellar.m_gas_err</th><th>bayes.stellar.m_star</th><th>bayes.stellar.m_star_err</th><th>bayes.stellar.n_ly</th><th>bayes.stellar.n_ly_err</th><th>bayes.cfht.megacam.u</th><th>bayes.cfht.megacam.u_err</th><th>bayes.cfht.megacam.u_1</th><th>bayes.cfht.megacam.u_1_err</th><th>bayes.hst.acs.wfc.F814W</th><th>bayes.hst.acs.wfc.F814W_err</th><th>bayes.paranal.vircam.H</th><th>bayes.paranal.vircam.H_err</th><th>bayes.paranal.vircam.J</th><th>bayes.paranal.vircam.J_err</th><th>bayes.paranal.vircam.Ks</th><th>bayes.paranal.vircam.Ks_err</th><th>bayes.paranal.vircam.Y</th><th>bayes.paranal.vircam.Y_err</th><th>bayes.spitzer.irac.I1</th><th>bayes.spitzer.irac.I1_err</th><th>bayes.spitzer.irac.I2</th><th>bayes.spitzer.irac.I2_err</th><th>bayes.subaru.suprime.B</th><th>bayes.subaru.suprime.B_err</th><th>bayes.subaru.suprime.IB427</th><th>bayes.subaru.suprime.IB427_err</th><th>bayes.subaru.suprime.IB464</th><th>bayes.subaru.suprime.IB464_err</th><th>bayes.subaru.suprime.IB484</th><th>bayes.subaru.suprime.IB484_err</th><th>bayes.subaru.suprime.IB505</th><th>bayes.subaru.suprime.IB505_err</th><th>bayes.subaru.suprime.IB527</th><th>bayes.subaru.suprime.IB527_err</th><th>bayes.subaru.suprime.IB574</th><th>bayes.subaru.suprime.IB574_err</th><th>bayes.subaru.suprime.IB624</th><th>bayes.subaru.suprime.IB624_err</th><th>bayes.subaru.suprime.IB679</th><th>bayes.subaru.suprime.IB679_err</th><th>bayes.subaru.suprime.IB709</th><th>bayes.subaru.suprime.IB709_err</th><th>bayes.subaru.suprime.IB738</th><th>bayes.subaru.suprime.IB738_err</th><th>bayes.subaru.suprime.IB767</th><th>bayes.subaru.suprime.IB767_err</th><th>bayes.subaru.suprime.IB827</th><th>bayes.subaru.suprime.IB827_err</th><th>bayes.subaru.suprime.NB711</th><th>bayes.subaru.suprime.NB711_err</th><th>bayes.subaru.suprime.NB816</th><th>bayes.subaru.suprime.NB816_err</th><th>bayes.subaru.suprime.V</th><th>bayes.subaru.suprime.V_err</th><th>bayes.subaru.suprime.Y</th><th>bayes.subaru.suprime.Y_err</th><th>bayes.subaru.suprime.g</th><th>bayes.subaru.suprime.g_err</th><th>bayes.subaru.suprime.g+</th><th>bayes.subaru.suprime.g+_err</th><th>bayes.subaru.suprime.i</th><th>bayes.subaru.suprime.i_err</th><th>bayes.subaru.suprime.i+</th><th>bayes.subaru.suprime.i+_err</th><th>bayes.subaru.suprime.r</th><th>bayes.subaru.suprime.r_err</th><th>bayes.subaru.suprime.r+</th><th>bayes.subaru.suprime.r+_err</th><th>bayes.subaru.suprime.z</th><th>bayes.subaru.suprime.z_err</th><th>bayes.subaru.suprime.z+</th><th>bayes.subaru.suprime.z+_err</th><th>bayes.subaru.suprime.z++</th><th>bayes.subaru.suprime.z++_err</th><th>best.chi_square</th><th>best.reduced_chi_square</th><th>best.attenuation.E_BV_factor</th><th>best.attenuation.E_BV_lines</th><th>best.attenuation.E_BVs</th><th>best.attenuation.galex.FUV</th><th>best.attenuation.generic.bessell.B</th><th>best.attenuation.generic.bessell.V</th><th>best.attenuation.powerlaw_slope</th><th>best.attenuation.uv_bump_amplitude</th><th>best.attenuation.uv_bump_wavelength</th><th>best.attenuation.uv_bump_width</th><th>best.dust.alpha</th><th>best.dust.gamma</th><th>best.dust.qpah</th><th>best.dust.umean</th><th>best.dust.umin</th><th>best.nebular.f_dust</th><th>best.nebular.f_esc</th><th>best.nebular.lines_width</th><th>best.nebular.logU</th><th>best.nebular.ne</th><th>best.nebular.zgas</th><th>best.param.EW(Halpha)</th><th>best.param.EW(Hbeta)</th><th>best.param.EW(LyA)</th><th>best.param.EW(NII6584)</th><th>best.param.EW(OII)</th><th>best.param.EW(OIII4959)</th><th>best.param.EW(OIII5007)</th><th>best.param.beta0_calz94</th><th>best.param.beta_calz94</th><th>best.param.restframe_cfht.megacam.u-subaru.suprime.V</th><th>best.param.restframe_galex.NUV-subaru.suprime.r</th><th>best.param.restframe_subaru.suprime.V-paranal.vircam.J</th><th>best.param.restframe_subaru.suprime.r-paranal.vircam.J</th><th>best.sfh.age</th><th>best.sfh.age_burst</th><th>best.sfh.age_main</th><th>best.sfh.f_burst</th><th>best.sfh.tau_burst</th><th>best.sfh.tau_main</th><th>best.stellar.age_m_star</th><th>best.stellar.imf</th><th>best.stellar.metallicity</th><th>best.stellar.old_young_separation_age</th><th>best.universe.age</th><th>best.universe.luminosity_distance</th><th>best.universe.redshift</th><th>best.dust.luminosity</th><th>best.dust.mass</th><th>best.param.restframe_Lnu(cfht.megacam.u)</th><th>best.param.restframe_Lnu(galex.FUV)</th><th>best.param.restframe_Lnu(galex.NUV)</th><th>best.param.restframe_Lnu(paranal.vircam.H)</th><th>best.param.restframe_Lnu(paranal.vircam.J)</th><th>best.param.restframe_Lnu(paranal.vircam.Ks)</th><th>best.param.restframe_Lnu(paranal.vircam.Y)</th><th>best.param.restframe_Lnu(subaru.suprime.B)</th><th>best.param.restframe_Lnu(subaru.suprime.V)</th><th>best.param.restframe_Lnu(subaru.suprime.g)</th><th>best.param.restframe_Lnu(subaru.suprime.i)</th><th>best.param.restframe_Lnu(subaru.suprime.r)</th><th>best.param.restframe_Lnu(subaru.suprime.z)</th><th>best.param.restframe_Lnu(tophat.1500A.100A_wide)</th><th>best.sfh.integrated</th><th>best.sfh.sfr</th><th>best.sfh.sfr100Myrs</th><th>best.sfh.sfr10Myrs</th><th>best.stellar.lum</th><th>best.stellar.lum_ly</th><th>best.stellar.lum_ly_old</th><th>best.stellar.lum_ly_young</th><th>best.stellar.lum_old</th><th>best.stellar.lum_young</th><th>best.stellar.m_gas</th><th>best.stellar.m_gas_old</th><th>best.stellar.m_gas_young</th><th>best.stellar.m_star</th><th>best.stellar.m_star_old</th><th>best.stellar.m_star_young</th><th>best.stellar.n_ly</th><th>best.stellar.n_ly_old</th><th>best.stellar.n_ly_young</th><th>best.cfht.megacam.u</th><th>best.cfht.megacam.u_1</th><th>best.subaru.suprime.g</th><th>best.subaru.suprime.r</th><th>best.subaru.suprime.i</th><th>best.subaru.suprime.z</th><th>best.subaru.suprime.Y</th><th>best.paranal.vircam.Y</th><th>best.paranal.vircam.J</th><th>best.paranal.vircam.H</th><th>best.paranal.vircam.Ks</th><th>best.subaru.suprime.IB427</th><th>best.subaru.suprime.IB464</th><th>best.subaru.suprime.IB484</th><th>best.subaru.suprime.IB505</th><th>best.subaru.suprime.IB527</th><th>best.subaru.suprime.IB574</th><th>best.subaru.suprime.IB624</th><th>best.subaru.suprime.IB679</th><th>best.subaru.suprime.IB709</th><th>best.subaru.suprime.IB738</th><th>best.subaru.suprime.IB767</th><th>best.subaru.suprime.IB827</th><th>best.subaru.suprime.NB711</th><th>best.subaru.suprime.NB816</th><th>best.subaru.suprime.B</th><th>best.subaru.suprime.g+</th><th>best.subaru.suprime.V</th><th>best.subaru.suprime.r+</th><th>best.subaru.suprime.i+</th><th>best.subaru.suprime.z+</th><th>best.subaru.suprime.z++</th><th>best.spitzer.irac.I1</th><th>best.spitzer.irac.I2</th><th>best.hst.acs.wfc.F814W</th><th>id_2</th><th>redshift</th><th>cfht.megacam.u</th><th>cfht.megacam.u_err</th><th>cfht.megacam.u_1</th><th>cfht.megacam.u_1_err</th><th>subaru.suprime.g</th><th>subaru.suprime.g_err</th><th>subaru.suprime.r</th><th>subaru.suprime.r_err</th><th>subaru.suprime.i</th><th>subaru.suprime.i_err</th><th>subaru.suprime.z</th><th>subaru.suprime.z_err</th><th>subaru.suprime.Y</th><th>subaru.suprime.Y_err</th><th>paranal.vircam.Y</th><th>paranal.vircam.Y_err</th><th>paranal.vircam.J</th><th>paranal.vircam.J_err</th><th>paranal.vircam.H</th><th>paranal.vircam.H_err</th><th>paranal.vircam.Ks</th><th>paranal.vircam.Ks_err</th><th>subaru.suprime.IB427</th><th>subaru.suprime.IB427_err</th><th>subaru.suprime.IB464</th><th>subaru.suprime.IB464_err</th><th>subaru.suprime.IB484</th><th>subaru.suprime.IB484_err</th><th>subaru.suprime.IB505</th><th>subaru.suprime.IB505_err</th><th>subaru.suprime.IB527</th><th>subaru.suprime.IB527_err</th><th>subaru.suprime.IB574</th><th>subaru.suprime.IB574_err</th><th>subaru.suprime.IB624</th><th>subaru.suprime.IB624_err</th><th>subaru.suprime.IB679</th><th>subaru.suprime.IB679_err</th><th>subaru.suprime.IB709</th><th>subaru.suprime.IB709_err</th><th>subaru.suprime.IB738</th><th>subaru.suprime.IB738_err</th><th>subaru.suprime.IB767</th><th>subaru.suprime.IB767_err</th><th>subaru.suprime.IB827</th><th>subaru.suprime.IB827_err</th><th>subaru.suprime.NB711</th><th>subaru.suprime.NB711_err</th><th>subaru.suprime.NB816</th><th>subaru.suprime.NB816_err</th><th>subaru.suprime.B</th><th>subaru.suprime.B_err</th><th>subaru.suprime.g+</th><th>subaru.suprime.g+_err</th><th>subaru.suprime.V</th><th>subaru.suprime.V_err</th><th>subaru.suprime.r+</th><th>subaru.suprime.r+_err</th><th>subaru.suprime.i+</th><th>subaru.suprime.i+_err</th><th>subaru.suprime.z+</th><th>subaru.suprime.z+_err</th><th>subaru.suprime.z++</th><th>subaru.suprime.z++_err</th><th>spitzer.irac.I1</th><th>spitzer.irac.I1_err</th><th>spitzer.irac.I2</th><th>spitzer.irac.I2_err</th><th>hst.acs.wfc.F814W</th><th>hst.acs.wfc.F814W_err</th></tr></thead>\n",
       "<thead><tr><th></th><th></th><th></th><th>mag</th><th>mag</th><th></th><th></th><th></th><th></th><th>nm</th><th>nm</th><th>nm</th><th>nm</th><th>nm</th><th>nm</th><th>nm</th><th>nm</th><th>nm</th><th>nm</th><th>nm</th><th>nm</th><th>nm</th><th>nm</th><th></th><th></th><th></th><th></th><th>mag</th><th>mag</th><th>mag</th><th>mag</th><th>mag</th><th>mag</th><th>mag</th><th>mag</th><th>Myr</th><th>Myr</th><th>Myr</th><th>Myr</th><th></th><th></th><th>Myr</th><th>Myr</th><th>Myr</th><th>Myr</th><th></th><th></th><th>W / Hz</th><th>W / Hz</th><th>W / Hz</th><th>W / Hz</th><th>W / Hz</th><th>W / Hz</th><th>W / Hz</th><th>W / Hz</th><th>W / Hz</th><th>W / Hz</th><th>W / Hz</th><th>W / Hz</th><th>W / Hz</th><th>W / Hz</th><th>W / Hz</th><th>W / Hz</th><th>W / Hz</th><th>W / Hz</th><th>W / Hz</th><th>W / Hz</th><th>W / Hz</th><th>W / Hz</th><th>W / Hz</th><th>W / Hz</th><th>W / Hz</th><th>W / Hz</th><th>W / Hz</th><th>W / Hz</th><th>solMass / yr</th><th>solMass / yr</th><th>solMass / yr</th><th>solMass / yr</th><th>solMass / yr</th><th>solMass / yr</th><th>solMass</th><th>solMass</th><th>solMass</th><th>solMass</th><th>ph / s</th><th>ph / s</th><th>mJy</th><th>mJy</th><th>mJy</th><th>mJy</th><th>mJy</th><th>mJy</th><th>mJy</th><th>mJy</th><th>mJy</th><th>mJy</th><th>mJy</th><th>mJy</th><th>mJy</th><th>mJy</th><th>mJy</th><th>mJy</th><th>mJy</th><th>mJy</th><th>mJy</th><th>mJy</th><th>mJy</th><th>mJy</th><th>mJy</th><th>mJy</th><th>mJy</th><th>mJy</th><th>mJy</th><th>mJy</th><th>mJy</th><th>mJy</th><th>mJy</th><th>mJy</th><th>mJy</th><th>mJy</th><th>mJy</th><th>mJy</th><th>mJy</th><th>mJy</th><th>mJy</th><th>mJy</th><th>mJy</th><th>mJy</th><th>mJy</th><th>mJy</th><th>mJy</th><th>mJy</th><th>mJy</th><th>mJy</th><th>mJy</th><th>mJy</th><th>mJy</th><th>mJy</th><th>mJy</th><th>mJy</th><th>mJy</th><th>mJy</th><th>mJy</th><th>mJy</th><th>mJy</th><th>mJy</th><th>mJy</th><th>mJy</th><th>mJy</th><th>mJy</th><th>mJy</th><th>mJy</th><th>mJy</th><th>mJy</th><th>mJy</th><th>mJy</th><th></th><th></th><th></th><th>mag</th><th>mag</th><th>mag</th><th>mag</th><th>mag</th><th></th><th></th><th>nm</th><th>nm</th><th></th><th></th><th></th><th></th><th></th><th></th><th></th><th>km / s</th><th></th><th>1 / cm3</th><th></th><th>nm</th><th>nm</th><th>nm</th><th>nm</th><th>nm</th><th>nm</th><th>nm</th><th></th><th></th><th>mag</th><th>mag</th><th>mag</th><th>mag</th><th>Myr</th><th>Myr</th><th>Myr</th><th></th><th>Myr</th><th>Myr</th><th>Myr</th><th></th><th></th><th>Myr</th><th>Myr</th><th>m</th><th></th><th>W</th><th>kg</th><th>W / Hz</th><th>W / Hz</th><th>W / Hz</th><th>W / Hz</th><th>W / Hz</th><th>W / Hz</th><th>W / Hz</th><th>W / Hz</th><th>W / Hz</th><th>W / Hz</th><th>W / Hz</th><th>W / Hz</th><th>W / Hz</th><th>W / Hz</th><th>solMass</th><th>solMass / yr</th><th>solMass / yr</th><th>solMass / yr</th><th>W</th><th>W</th><th>W</th><th>W</th><th>W</th><th>W</th><th>solMass</th><th>solMass</th><th>solMass</th><th>solMass</th><th>solMass</th><th>solMass</th><th>ph / s</th><th>ph / s</th><th>ph / s</th><th>mJy</th><th>mJy</th><th>mJy</th><th>mJy</th><th>mJy</th><th>mJy</th><th>mJy</th><th>mJy</th><th>mJy</th><th>mJy</th><th>mJy</th><th>mJy</th><th>mJy</th><th>mJy</th><th>mJy</th><th>mJy</th><th>mJy</th><th>mJy</th><th>mJy</th><th>mJy</th><th>mJy</th><th>mJy</th><th>mJy</th><th>mJy</th><th>mJy</th><th>mJy</th><th>mJy</th><th>mJy</th><th>mJy</th><th>mJy</th><th>mJy</th><th>mJy</th><th>mJy</th><th>mJy</th><th>mJy</th><th></th><th></th><th></th><th></th><th></th><th></th><th></th><th></th><th></th><th></th><th></th><th></th><th></th><th></th><th></th><th></th><th></th><th></th><th></th><th></th><th></th><th></th><th></th><th></th><th></th><th></th><th></th><th></th><th></th><th></th><th></th><th></th><th></th><th></th><th></th><th></th><th></th><th></th><th></th><th></th><th></th><th></th><th></th><th></th><th></th><th></th><th></th><th></th><th></th><th></th><th></th><th></th><th></th><th></th><th></th><th></th><th></th><th></th><th></th><th></th><th></th><th></th><th></th><th></th><th></th><th></th><th></th><th></th><th></th><th></th><th></th><th></th></tr></thead>\n",
       "<thead><tr><th>float64</th><th>int64</th><th>float64</th><th>float64</th><th>float64</th><th>float64</th><th>float64</th><th>float64</th><th>float64</th><th>float64</th><th>float64</th><th>float64</th><th>float64</th><th>float64</th><th>float64</th><th>float64</th><th>float64</th><th>float64</th><th>float64</th><th>float64</th><th>float64</th><th>float64</th><th>float64</th><th>float64</th><th>float64</th><th>float64</th><th>float64</th><th>float64</th><th>float64</th><th>float64</th><th>float64</th><th>float64</th><th>float64</th><th>float64</th><th>float64</th><th>float64</th><th>float64</th><th>float64</th><th>float64</th><th>float64</th><th>float64</th><th>float64</th><th>float64</th><th>float64</th><th>float64</th><th>float64</th><th>float64</th><th>float64</th><th>float64</th><th>float64</th><th>float64</th><th>float64</th><th>float64</th><th>float64</th><th>float64</th><th>float64</th><th>float64</th><th>float64</th><th>float64</th><th>float64</th><th>float64</th><th>float64</th><th>float64</th><th>float64</th><th>float64</th><th>float64</th><th>float64</th><th>float64</th><th>float64</th><th>float64</th><th>float64</th><th>float64</th><th>float64</th><th>float64</th><th>float64</th><th>float64</th><th>float64</th><th>float64</th><th>float64</th><th>float64</th><th>float64</th><th>float64</th><th>float64</th><th>float64</th><th>float64</th><th>float64</th><th>float64</th><th>float64</th><th>float64</th><th>float64</th><th>float64</th><th>float64</th><th>float64</th><th>float64</th><th>float64</th><th>float64</th><th>float64</th><th>float64</th><th>float64</th><th>float64</th><th>float64</th><th>float64</th><th>float64</th><th>float64</th><th>float64</th><th>float64</th><th>float64</th><th>float64</th><th>float64</th><th>float64</th><th>float64</th><th>float64</th><th>float64</th><th>float64</th><th>float64</th><th>float64</th><th>float64</th><th>float64</th><th>float64</th><th>float64</th><th>float64</th><th>float64</th><th>float64</th><th>float64</th><th>float64</th><th>float64</th><th>float64</th><th>float64</th><th>float64</th><th>float64</th><th>float64</th><th>float64</th><th>float64</th><th>float64</th><th>float64</th><th>float64</th><th>float64</th><th>float64</th><th>float64</th><th>float64</th><th>float64</th><th>float64</th><th>float64</th><th>float64</th><th>float64</th><th>float64</th><th>float64</th><th>float64</th><th>float64</th><th>float64</th><th>float64</th><th>float64</th><th>float64</th><th>float64</th><th>float64</th><th>float64</th><th>float64</th><th>float64</th><th>float64</th><th>float64</th><th>float64</th><th>float64</th><th>float64</th><th>float64</th><th>float64</th><th>float64</th><th>float64</th><th>float64</th><th>float64</th><th>float64</th><th>float64</th><th>float64</th><th>float64</th><th>float64</th><th>float64</th><th>float64</th><th>float64</th><th>float64</th><th>float64</th><th>float64</th><th>float64</th><th>float64</th><th>float64</th><th>float64</th><th>float64</th><th>float64</th><th>float64</th><th>float64</th><th>float64</th><th>float64</th><th>float64</th><th>float64</th><th>float64</th><th>float64</th><th>float64</th><th>float64</th><th>float64</th><th>float64</th><th>float64</th><th>float64</th><th>float64</th><th>float64</th><th>float64</th><th>float64</th><th>float64</th><th>float64</th><th>float64</th><th>float64</th><th>float64</th><th>float64</th><th>float64</th><th>float64</th><th>float64</th><th>float64</th><th>float64</th><th>float64</th><th>float64</th><th>float64</th><th>float64</th><th>float64</th><th>float64</th><th>float64</th><th>float64</th><th>float64</th><th>float64</th><th>float64</th><th>float64</th><th>float64</th><th>float64</th><th>float64</th><th>float64</th><th>float64</th><th>float64</th><th>float64</th><th>float64</th><th>float64</th><th>float64</th><th>float64</th><th>float64</th><th>float64</th><th>float64</th><th>float64</th><th>float64</th><th>float64</th><th>float64</th><th>float64</th><th>float64</th><th>float64</th><th>float64</th><th>float64</th><th>float64</th><th>float64</th><th>float64</th><th>float64</th><th>float64</th><th>float64</th><th>float64</th><th>float64</th><th>float64</th><th>float64</th><th>float64</th><th>float64</th><th>float64</th><th>float64</th><th>float64</th><th>float64</th><th>float64</th><th>float64</th><th>float64</th><th>float64</th><th>float64</th><th>float64</th><th>float64</th><th>float64</th><th>float64</th><th>float64</th><th>float64</th><th>float64</th><th>float64</th><th>float64</th><th>float64</th><th>float64</th><th>float64</th><th>float64</th><th>float64</th><th>float64</th><th>float64</th><th>float64</th><th>float64</th><th>float64</th><th>float64</th><th>float64</th><th>float64</th><th>float64</th><th>float64</th><th>float64</th><th>float64</th><th>float64</th><th>float64</th><th>float64</th><th>float64</th><th>float64</th><th>float64</th><th>float64</th><th>float64</th><th>float64</th><th>float64</th><th>float64</th><th>float64</th><th>float64</th><th>float64</th><th>float64</th><th>float64</th><th>float64</th><th>float64</th><th>float64</th><th>float64</th><th>float64</th><th>float64</th><th>float64</th><th>float64</th><th>float64</th><th>float64</th><th>float64</th><th>float64</th><th>float64</th><th>float64</th><th>float64</th><th>float64</th><th>float64</th><th>float64</th><th>float64</th><th>float64</th><th>float64</th><th>float64</th><th>float64</th><th>float64</th><th>float64</th><th>float64</th><th>float64</th><th>float64</th><th>float64</th><th>float64</th><th>float64</th><th>float64</th><th>float64</th><th>float64</th><th>float64</th></tr></thead>\n",
       "<tr><td>505782.0</td><td>278896</td><td>0.96867</td><td>0.699998689922735</td><td>0.0003619942542493676</td><td>-1.0073272959808386</td><td>0.038393982629660525</td><td>0.0004141453381035857</td><td>0.00022838578394480588</td><td>232.45294811657317</td><td>30.57132876890451</td><td>48.06871150548428</td><td>5.864964396672416</td><td>0.8897053072828242</td><td>0.1010103501127505</td><td>-1.376780480573218</td><td>0.0633263163073773</td><td>0.46526723829976313</td><td>0.07740535464106603</td><td>55.198207135577114</td><td>6.289603211264164</td><td>167.44477236434471</td><td>19.120629763710525</td><td>-2.5866989992862606</td><td>0.024618235716572255</td><td>1.1716578153334358</td><td>0.04528823588939307</td><td>1.5634509873483833</td><td>0.02610611605704087</td><td>4.068929671208596</td><td>0.05504184975682877</td><td>0.9719595705789539</td><td>0.06603366557722554</td><td>0.3859457295190495</td><td>0.07608077216261903</td><td>5.109798928977529</td><td>2.0518126937855476</td><td>1282.8691416172346</td><td>1072.6058176544734</td><td>0.1972078065571841</td><td>0.23085133937381075</td><td>66.39214264991455</td><td>33.23469853265186</td><td>1612.2948696640478</td><td>2783.860783824975</td><td>0.0011370498282965444</td><td>0.001452633790926456</td><td>7.802979018966317e+21</td><td>3.901489509483159e+20</td><td>3.7116626106517606e+20</td><td>1.8558313053258805e+19</td><td>1.3325689298436707e+21</td><td>6.6628446492183536e+19</td><td>7.834570759621782e+22</td><td>7.668373717693404e+21</td><td>8.07768753253072e+22</td><td>5.151284554620622e+21</td><td>9.972233291695337e+22</td><td>6.192087342228452e+21</td><td>5.799639856658841e+22</td><td>4.5779082761586905e+21</td><td>1.8710563350999888e+22</td><td>9.355281675499944e+20</td><td>3.2935918371114727e+22</td><td>1.6467959185557364e+21</td><td>3.482249932416913e+22</td><td>1.7411249662084566e+21</td><td>3.413295691097457e+22</td><td>2.788573151449835e+21</td><td>5.651745728578526e+22</td><td>2.825872864289263e+21</td><td>4.056082378465033e+22</td><td>3.9429954936889116e+21</td><td>3.522956542167099e+20</td><td>1.7614782710835495e+19</td><td>474.42253195039433</td><td>61.904224875142056</td><td>35.154470344160444</td><td>13.42342598010599</td><td>260.46661384071115</td><td>13.427143117698922</td><td>9958009879.845243</td><td>6941998436.578111</td><td>18242712671.682198</td><td>10178519516.020205</td><td>9.930579387580775e+55</td><td>6.221006895560715e+54</td><td>0.0002588687399844688</td><td>1.120070242611117e-05</td><td>0.0002803980723783578</td><td>1.2026131113998556e-05</td><td>0.004116582068407235</td><td>4.7263609463321876e-05</td><td>0.013946811439121331</td><td>0.00132821744893834</td><td>0.03183765838653867</td><td>0.00112655088059545</td><td>0.0316368454280844</td><td>0.001598927374612133</td><td>0.02343523082662063</td><td>0.0007822401509714103</td><td>0.04639786488429093</td><td>0.0024316088440204785</td><td>0.03937843117069162</td><td>0.0022239038649807374</td><td>0.00046254641914925706</td><td>1.6771009762606026e-05</td><td>0.00039236249049328287</td><td>1.5840479563198354e-05</td><td>0.0005285890262181124</td><td>1.8231326003132068e-05</td><td>0.0006200519776385409</td><td>1.9772445481551333e-05</td><td>0.0007337056782381774</td><td>2.2341750762032496e-05</td><td>0.0008549418948559181</td><td>2.4283818798757455e-05</td><td>0.0012139376918870477</td><td>3.0455281350805943e-05</td><td>0.0016210289648134445</td><td>3.827217629303559e-05</td><td>0.0022184423287129025</td><td>4.930433260796115e-05</td><td>0.0023987736038916154</td><td>4.6181113392464076e-05</td><td>0.002068755776422909</td><td>4.269679112875091e-05</td><td>0.004677310261944052</td><td>5.0769730952981344e-05</td><td>0.003591592457979821</td><td>0.00011961336582947772</td><td>0.00262454763228839</td><td>5.55180957646777e-05</td><td>0.0039720190400083155</td><td>8.145424867956847e-05</td><td>0.0010063345578604018</td><td>2.6920606502798094e-05</td><td>0.02991872241095718</td><td>0.0011447077678553687</td><td>0.0006174173393229584</td><td>1.958458000663713e-05</td><td>0.0005979499742309662</td><td>1.9256016294680547e-05</td><td>0.0035239770898006</td><td>3.6910169014405015e-05</td><td>0.0033455669199093908</td><td>3.738775622017509e-05</td><td>0.0016355203955920902</td><td>3.80367829317231e-05</td><td>0.0016867673324118487</td><td>3.901255921312871e-05</td><td>0.00487262979356346</td><td>0.0001267954681916181</td><td>0.011204462439859737</td><td>0.0002258594320879921</td><td>0.013764005435978322</td><td>0.0003537461346018231</td><td>525.1227294005932</td><td>15.444786158840978</td><td>1.0</td><td>0.7</td><td>0.7</td><td>7.321796027573896</td><td>2.8875685896649372</td><td>2.3890507041404776</td><td>0.0</td><td>0.0</td><td>217.5</td><td>35.0</td><td>2.0</td><td>0.1</td><td>2.5</td><td>2.511809726276805</td><td>1.0</td><td>0.0</td><td>0.0</td><td>300.0</td><td>-1.0</td><td>100.0</td><td>0.0004</td><td>202.31963978467064</td><td>43.27217758470477</td><td>0.9856288205673401</td><td>-1.3256553536851106</td><td>0.42223032721003284</td><td>49.379944190310155</td><td>149.60202436941765</td><td>-2.5419068957420894</td><td>1.2362472196280054</td><td>1.5955974352950275</td><td>4.15266404842624</td><td>1.0371557081139304</td><td>0.45353410797156046</td><td>600.0</td><td>5.0</td><td>600.0</td><td>0.05</td><td>100.0</td><td>50.0</td><td>460.57138261215823</td><td>1.0</td><td>0.0004</td><td>10.0</td><td>5980.5142468058475</td><td>2.0150022803687438e+26</td><td>0.96867</td><td>9.377670805209449e+38</td><td>1.3288663876307346e+40</td><td>7.719840515439948e+21</td><td>3.409103494960562e+20</td><td>1.2538059403218434e+21</td><td>8.710487473598127e+22</td><td>8.723878043579018e+22</td><td>1.064917184156686e+23</td><td>6.389338969651634e+22</td><td>1.8896085508237436e+22</td><td>3.356195899378882e+22</td><td>3.472586813661131e+22</td><td>3.789469744189159e+22</td><td>5.745078173054584e+22</td><td>4.5648486602306054e+22</td><td>3.236559085561195e+20</td><td>48180475083.51612</td><td>472.2859061529983</td><td>24.284027808824042</td><td>240.97713906942704</td><td>9.640598764644733e+38</td><td>3.476381824680425e+38</td><td>7.807086443111369e+34</td><td>3.475601116036114e+38</td><td>6.88887062934804e+37</td><td>8.95171170170993e+38</td><td>17410602148.971043</td><td>17385347479.040607</td><td>25254669.930434655</td><td>30769873183.29694</td><td>28385356213.78124</td><td>2384516969.5157</td><td>9.59214598419335e+55</td><td>1.666571292371302e+52</td><td>9.590479412900978e+55</td><td>0.0002400268312531814</td><td>0.00026040628219765573</td><td>0.0005846768271617343</td><td>0.0015849092514856348</td><td>0.003580608510114649</td><td>0.004990875456331529</td><td>0.029466996641354024</td><td>0.02292356107686178</td><td>0.03183644882687556</td><td>0.015694838375616155</td><td>0.03377047719556561</td><td>0.000366310230303758</td><td>0.0004977887594891657</td><td>0.0005866942936141169</td><td>0.0006969108943436175</td><td>0.0008156080150748803</td><td>0.0011683678374915707</td><td>0.0015697296403417692</td><td>0.002162145412561303</td><td>0.0023318338842702297</td><td>0.002074377561343037</td><td>0.004619163471042068</td><td>0.0036451414228743095</td><td>0.002555578250278344</td><td>0.0038472198478535125</td><td>0.0004343837265206663</td><td>0.0005656513984810492</td><td>0.0009641433911737507</td><td>0.001635547734815653</td><td>0.0033732112132309855</td><td>0.01135917680326395</td><td>0.013914524572504387</td><td>0.04915754226023229</td><td>0.04180287956480291</td><td>0.0042250829341223695</td><td>505782.0</td><td>0.96867</td><td>0.0005434329505078495</td><td>5.752952229174964e-05</td><td>0.00039970126817934215</td><td>4.422355117585908e-05</td><td>0.002380246762186289</td><td>0.00023886708810822753</td><td>0.0036491777282208204</td><td>0.0003658149712124502</td><td>0.00786086916923523</td><td>0.0007866394547996384</td><td>0.011228068731725216</td><td>0.001123818514125271</td><td>0.035082362592220306</td><td>0.0035095145612552697</td><td>0.024365730583667755</td><td>0.0024369837778642272</td><td>0.03134078159928322</td><td>0.003134492175647252</td><td>0.038439370691776276</td><td>0.003844609877734869</td><td>0.0427732914686203</td><td>0.00427870731631275</td><td>0.0006790985353291035</td><td>0.00012006268561066547</td><td>0.00016400654567405581</td><td>-0.00016400654567405581</td><td>0.000860253581777215</td><td>0.0001289141934042967</td><td>0.0002061760751530528</td><td>-0.0002061760751530528</td><td>0.00108585343696177</td><td>0.00014419322215304133</td><td>0.0001936107873916626</td><td>-0.0001936107873916626</td><td>0.00019056189921684563</td><td>-0.00019056189921684563</td><td>0.0013863546773791313</td><td>0.00020377232428175714</td><td>0.003377411747351289</td><td>0.00036322007271504377</td><td>0.0006044789915904403</td><td>0.00018529191931241113</td><td>0.007032646797597408</td><td>0.0007304812184210848</td><td>0.002899458399042487</td><td>0.000340014246931793</td><td>0.005786756984889507</td><td>0.0006582310986492101</td><td>0.00456294184550643</td><td>0.00048221624253660245</td><td>0.0003741415566764772</td><td>4.932777333576531e-05</td><td>0.00036489919875748456</td><td>6.048544681826254e-05</td><td>0.0008993893279694021</td><td>0.00010744785369586413</td><td>0.0019323768792673945</td><td>0.00020159698059879567</td><td>0.004824051633477211</td><td>0.0004912445129563401</td><td>0.010936994105577469</td><td>0.0011137016377582047</td><td>0.01182673778384924</td><td>0.0011861372123708606</td><td>0.04182389751076698</td><td>0.004195873482558091</td><td>0.028746867552399635</td><td>0.002886622428540248</td><td>0.0037902563344687223</td><td>0.00038018446780094684</td></tr>\n",
       "</table></div>"
      ],
      "text/plain": [
       "<Table length=1>\n",
       "ID_COS20_Classic Id_specz ...   hst.acs.wfc.F814W   hst.acs.wfc.F814W_err \n",
       "                          ...                                             \n",
       "    float64       int64   ...        float64               float64        \n",
       "---------------- -------- ... --------------------- ----------------------\n",
       "        505782.0   278896 ... 0.0037902563344687223 0.00038018446780094684"
      ]
     },
     "execution_count": 64,
     "metadata": {},
     "output_type": "execute_result"
    }
   ],
   "source": [
    "# Show that they all have the same COSMOS2020/Classic ID\n",
    "for ii in range(comp_ALL_mask.sum()): \n",
    "    print(f\"COSMOS2020/Classic ID = {matched['Id_COS20_Classic'][ii]}\")\n",
    "\n",
    "# Load in the CIGALE SED Results\n",
    "cigale = Table.read(\"../sed_fitting/cigale/cigale_results_specz_compilation_DR1.1.fits\")\n",
    "\n",
    "# Mask the CIGALE Results to only our source of interest\n",
    "mask = cigale['ID_COS20_Classic'] == matched['Id_COS20_Classic'][0]\n",
    "\n",
    "# Show the CIGALE Results\n",
    "cigale[mask]\n"
   ]
  },
  {
   "cell_type": "markdown",
   "metadata": {},
   "source": [
    "This is a lot of information so let's parse out some of the parameters of interest"
   ]
  },
  {
   "cell_type": "code",
   "execution_count": 65,
   "metadata": {},
   "outputs": [
    {
     "data": {
      "text/html": [
       "<div><i>Table length=1</i>\n",
       "<table id=\"table140153250207776\" class=\"table-striped table-bordered table-condensed\">\n",
       "<thead><tr><th>log10 Stellar Mass</th><th>E(B-V)</th><th>SFR (10 Myr) [Msol/yr]</th><th>SFR (100 Myr) [Msol/yr]</th><th>EW([OIII]+Hβ) [Å]</th></tr></thead>\n",
       "<thead><tr><th>solMass</th><th>mag</th><th>solMass / yr</th><th>solMass / yr</th><th>nm</th></tr></thead>\n",
       "<thead><tr><th>float64</th><th>float64</th><th>float64</th><th>float64</th><th>float64</th></tr></thead>\n",
       "<tr><td>10.261089417914956</td><td>0.699998689922735</td><td>260.46661384071115</td><td>35.154470344160444</td><td>270.7116910054061</td></tr>\n",
       "</table></div>"
      ],
      "text/plain": [
       "<Table length=1>\n",
       "log10 Stellar Mass       E(B-V)      ... EW([OIII]+Hβ) [Å]\n",
       "     solMass              mag        ...         nm       \n",
       "     float64            float64      ...      float64     \n",
       "------------------ ----------------- ... -----------------\n",
       "10.261089417914956 0.699998689922735 ... 270.7116910054061"
      ]
     },
     "execution_count": 65,
     "metadata": {},
     "output_type": "execute_result"
    }
   ],
   "source": [
    "# Show Me Some Key Parameters\n",
    "summary = Table()\n",
    "\n",
    "summary[\"log10 Stellar Mass\"] = np.log10(cigale[\"bayes.stellar.m_star\"][mask])\n",
    "summary[\"E(B-V)\"] = cigale[\"bayes.attenuation.E_BV_lines\"][mask]\n",
    "summary[\"SFR (10 Myr) [Msol/yr]\"] = cigale[\"bayes.sfh.sfr10Myrs\"][mask]\n",
    "summary[\"SFR (100 Myr) [Msol/yr]\"] = cigale[\"bayes.sfh.sfr100Myrs\"][mask]\n",
    "summary[\"EW([OIII]+Hβ) [Å]\"] = (\n",
    "    cigale[\"bayes.param.EW(OIII5007)\"][mask]\n",
    "    + cigale[\"bayes.param.EW(OIII4959)\"][mask]\n",
    "    + cigale[\"bayes.param.EW(Hbeta)\"][mask]\n",
    ")\n",
    "\n",
    "summary"
   ]
  },
  {
   "cell_type": "markdown",
   "metadata": {},
   "source": [
    "Now let's look at the LePhare Results. The ID scheme is exactly the same (COSMOS2020/Classic)"
   ]
  },
  {
   "cell_type": "code",
   "execution_count": 66,
   "metadata": {},
   "outputs": [
    {
     "data": {
      "text/html": [
       "<div><i>Table length=1</i>\n",
       "<table id=\"table140152343827168\" class=\"table-striped table-bordered table-condensed\">\n",
       "<thead><tr><th>Id</th><th>zs</th><th>model</th><th>age</th><th>EBV</th><th>attenuation_law</th><th>MFUV</th><th>MNUV</th><th>MU</th><th>MG</th><th>MR</th><th>MI</th><th>MZ</th><th>MY</th><th>MJ</th><th>MH</th><th>MK</th><th>mass_med</th><th>mass_med_min68</th><th>mass_med_max68</th><th>mass_best</th><th>SFR_med</th><th>SFR_med_min68</th><th>SFR_med_max68</th><th>SFR_best</th><th>sSFR_med</th><th>sSFR_med_min68</th><th>sSFR_med_max68</th><th>sSFR_best</th></tr></thead>\n",
       "<thead><tr><th>int32</th><th>float32</th><th>int16</th><th>float32</th><th>float32</th><th>int16</th><th>float64</th><th>float64</th><th>float64</th><th>float64</th><th>float64</th><th>float64</th><th>float64</th><th>float64</th><th>float64</th><th>float64</th><th>float64</th><th>float64</th><th>float64</th><th>float64</th><th>float32</th><th>float64</th><th>float64</th><th>float32</th><th>float32</th><th>float64</th><th>float64</th><th>float64</th><th>float32</th></tr></thead>\n",
       "<tr><td>505782</td><td>0.9687</td><td>5</td><td>8.707</td><td>0.6</td><td>1</td><td>-17.7087</td><td>-19.32239</td><td>-20.8593</td><td>-21.75338</td><td>-22.29684</td><td>-22.66247</td><td>-22.93293</td><td>-23.1024</td><td>-23.22106</td><td>-23.37884</td><td>-23.20469</td><td>10.43713</td><td>10.17682</td><td>10.71625</td><td>10.467</td><td>1.71185</td><td>1.26038</td><td>2.04469</td><td>1.898</td><td>-8.71438</td><td>-9.39737</td><td>-8.07461</td><td>-8.568</td></tr>\n",
       "</table></div>"
      ],
      "text/plain": [
       "<Table length=1>\n",
       "  Id      zs   model   age   ... sSFR_med_min68 sSFR_med_max68 sSFR_best\n",
       "int32  float32 int16 float32 ...    float64        float64      float32 \n",
       "------ ------- ----- ------- ... -------------- -------------- ---------\n",
       "505782  0.9687     5   8.707 ...       -9.39737       -8.07461    -8.568"
      ]
     },
     "execution_count": 66,
     "metadata": {},
     "output_type": "execute_result"
    }
   ],
   "source": [
    "# Load in the LePHARE SED Results\n",
    "lephare = Table.read(\"../sed_fitting/lephare/lephare_results_specz_compilation_DR1.1.fits\")\n",
    "\n",
    "# Mask the LePHARE Results to only our source of interest\n",
    "mask = lephare['Id'] == matched['Id_COS20_Classic'][0]\n",
    "\n",
    "# Show the LePHARE Results\n",
    "lephare[mask]"
   ]
  },
  {
   "cell_type": "markdown",
   "metadata": {},
   "source": [
    "We see that based on both the CIGALE and LePHARE results, our source of interest seems to be a massive (10<sup>10.3 - 10.5</sup> Msol) and dusty (*E(B - V)* = 0.6 - 0.7 mag) galaxy. The 100 Myr Star Formation Rate from CIGALE and LePHARE are 35 and 80 Msol/yr, respectively. However, CIGALE is also showing a 10 Myr SFR that is an order-of-magnitude higher at 260 Msol/yr with [OIII]+Hbeta Equivalent Width of 2707 Angstom (rest-frame). This would suggest our source of interest is a heavily star-forming system. \n",
    "\n",
    "## Get a Quick View of what the SED looks like\n",
    "Although we don't have the SED fits yet loaded, one could also look at the observed photometry to see not only the dusty shape of our source of interest, but also a jump in HSC/Y magnitudes which could signify a significant contribution of [OIII]+Hbeta emission at *z*<sub>spec</sub> = 0.96867. We can even further investigate our source of interest by looking at the original datasets (e.g., LEGA-C DR3 has publicly available 1D Spectra via the ESO Science Portal)."
   ]
  },
  {
   "cell_type": "code",
   "execution_count": 67,
   "metadata": {},
   "outputs": [
    {
     "data": {
      "image/png": "[encoded data removed]",
      "text/plain": [
       "<Figure size 864x576 with 1 Axes>"
      ]
     },
     "metadata": {
      "needs_background": "light"
     },
     "output_type": "display_data"
    }
   ],
   "source": [
    "# Load in the Observed Photometry from Cigale\n",
    "mask = cigale['ID_COS20_Classic'] == matched['Id_COS20_Classic'][0]\n",
    "\n",
    "# Limit to our source of interest\n",
    "obs = cigale[mask]\n",
    "\n",
    "# Filter Properties (Cleaning out just so we can better see the SED Shape)\n",
    "filters = {\"cfht.megacam.u\": 3676.12,\n",
    "           \"cfht.megacam.u_1\": 3799.43,\n",
    "           \"subaru.suprime.g\": 4710.97,\n",
    "           \"subaru.suprime.r\": 6218.44,\n",
    "           \"subaru.suprime.i\": 7727.01,\n",
    "           \"subaru.suprime.z\": 8908.50,\n",
    "           \"subaru.suprime.Y\": 9775.07,\n",
    "           \"paranal.vircam.Y\": 10210.71,\n",
    "           \"paranal.vircam.J\": 12524.83,\n",
    "           \"paranal.vircam.H\": 16432.45,\n",
    "           \"paranal.vircam.Ks\": 21521.52,\n",
    "           \"spitzer.irac.I1\": 35378.41,\n",
    "           \"spitzer.irac.I2\": 44780.49,\n",
    "           }\n",
    "\n",
    "plt.figure(figsize=(12, 8))\n",
    "# Now Let's Plot the Photometry\n",
    "for key in filters.keys():\n",
    "    if obs[key+\"_err\"] < 0.:\n",
    "        print(key)\n",
    "        plt.errorbar([filters[key]],[obs[key]], yerr=np.abs(obs[key+\"_err\"]),uplims=[True],fmt = \"o\",color=\"black\")\n",
    "    else:\n",
    "        plt.errorbar([filters[key]],[obs[key]], yerr=obs[key+\"_err\"],fmt = \"o\",color=\"black\")\n",
    "\n",
    "plt.xlabel(\"Observed Wavelength (Angstrom)\")\n",
    "plt.ylabel(\"Flux Density (mJy)\")\n",
    "plt.xscale(\"log\")\n",
    "plt.yscale(\"log\")\n",
    "plt.show()"
   ]
  }
 ],
 "metadata": {
  "kernelspec": {
   "display_name": "base",
   "language": "python",
   "name": "python3"
  },
  "language_info": {
   "codemirror_mode": {
    "name": "ipython",
    "version": 3
   },
   "file_extension": ".py",
   "mimetype": "text/x-python",
   "name": "python",
   "nbconvert_exporter": "python",
   "pygments_lexer": "ipython3",
   "version": "3.8.8"
  }
 },
 "nbformat": 4,
 "nbformat_minor": 2
}
